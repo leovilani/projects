{
 "cells": [
  {
   "cell_type": "markdown",
   "metadata": {},
   "source": [
    "# Titanic: Machine Learning from Disaster\n",
    "\n",
    "Um dos acidentes mais famosos da história, o Titanic que seria um dos navios mais modernos de sua época, bateu em um iceberg no dia 15 de abril de 1912 e causou a morte 1502 passageiros de um total de 2224.\n",
    "\n",
    "Hoje o [Kaggle](https://www.kaggle.com) traz o desafio de prever quais pessoas sobreviveram ao acidente, o desafio é um dos mais famosos e considerado a porta de entrada ao Machine Learning. As informações da competição, as regras e os datasets podem ser encontrados [aqui](https://www.kaggle.com/c/titanic).\n",
    "\n",
    "Meus objetivos nesse notebook são:\n",
    "\n",
    "- Análise exploratória (EDA);\n",
    "- Preparar os dados (limpeza de dados e preencher valores faltantes);\n",
    "- Feature Engineering (quando se extrai novos atributos com os existentes);\n",
    "- Preparar os dados para o modelo de machine learning;\n",
    "- Treinar dos modelos para a predição;"
    "- Validação;\n",
   ]
  },
  {
   "cell_type": "markdown",
   "metadata": {},
   "source": [
    "## Importando bibliotecas"
   ]
  },
  {
   "cell_type": "code",
   "execution_count": 1,
   "metadata": {},
   "outputs": [],
   "source": [
    "# Bibliotecas básicas\n",
    "import pandas as pd\n",
    "import numpy as np\n",
    "\n",
    "# Bibliotecas para construção de gráficos\n",
    "import matplotlib.pyplot as plt\n",
    "import seaborn as sns\n",
    "\n",
    "# Codificação de atributos\n",
    "from sklearn.preprocessing import LabelEncoder\n",
    "\n",
    "# Modelos\n",
    "from sklearn.ensemble import RandomForestClassifier\n",
    "from xgboost import XGBClassifier\n",
    "\n",
    "# Biblioteca para validação dos modelos\n",
    "from sklearn.model_selection import GridSearchCV, StratifiedKFold"
   ]
  },
  {
   "cell_type": "code",
   "execution_count": 2,
   "metadata": {},
   "outputs": [],
   "source": [
    "# Importando os arquivos que irei usar para treino e teste e colocando em como um dataset\n",
    "train = pd.read_csv('data/train.csv')\n",
    "test = pd.read_csv('data/test.csv')"
   ]
  },
  {
   "cell_type": "markdown",
   "metadata": {},
   "source": [
    "Essa é a descrição de cada atributo do Dataset:\n",
    "\n",
    "- PassengerId: Número de identificação do passageiro\n",
    "- Survived: Informa se o passageiro sobreviveu ao desastre\n",
    "    - 0 = Não\n",
    "    - 1 = Sim\n",
    "- Pclass: Classe do bilhete\n",
    "    - 1 = 1ª Classe\n",
    "    - 2 = 2ª Classe\n",
    "    - 3 = 3ª Classe\n",
    "- Name: Nome do passageiro\n",
    "- Sex: Sexo do passageiro\n",
    "- Age: Idade do passageiro\n",
    "- SibSp: Quantidade de cônjuges e irmãos a bordo\n",
    "- Parch: Quantidade de pais e filhos a bordo\n",
    "- Ticket: Número da passagem\n",
    "- Fare: Preço da Passagem\n",
    "- Cabin: Número da cabine do passageiro\n",
    "- Embarked: Porto no qual o passageiro embarcou\n",
    "    - C = Cherbourg\n",
    "    - Q = Queenstown\n",
    "    - S = Southampton"
   ]
  },
  {
   "cell_type": "code",
   "execution_count": 3,
   "metadata": {},
   "outputs": [
    {
     "data": {
      "text/html": [
       "<div>\n",
       "<style scoped>\n",
       "    .dataframe tbody tr th:only-of-type {\n",
       "        vertical-align: middle;\n",
       "    }\n",
       "\n",
       "    .dataframe tbody tr th {\n",
       "        vertical-align: top;\n",
       "    }\n",
       "\n",
       "    .dataframe thead th {\n",
       "        text-align: right;\n",
       "    }\n",
       "</style>\n",
       "<table border=\"1\" class=\"dataframe\">\n",
       "  <thead>\n",
       "    <tr style=\"text-align: right;\">\n",
       "      <th></th>\n",
       "      <th>PassengerId</th>\n",
       "      <th>Survived</th>\n",
       "      <th>Pclass</th>\n",
       "      <th>Name</th>\n",
       "      <th>Sex</th>\n",
       "      <th>Age</th>\n",
       "      <th>SibSp</th>\n",
       "      <th>Parch</th>\n",
       "      <th>Ticket</th>\n",
       "      <th>Fare</th>\n",
       "      <th>Cabin</th>\n",
       "      <th>Embarked</th>\n",
       "    </tr>\n",
       "  </thead>\n",
       "  <tbody>\n",
       "    <tr>\n",
       "      <th>0</th>\n",
       "      <td>1</td>\n",
       "      <td>0</td>\n",
       "      <td>3</td>\n",
       "      <td>Braund, Mr. Owen Harris</td>\n",
       "      <td>male</td>\n",
       "      <td>22.0</td>\n",
       "      <td>1</td>\n",
       "      <td>0</td>\n",
       "      <td>A/5 21171</td>\n",
       "      <td>7.2500</td>\n",
       "      <td>NaN</td>\n",
       "      <td>S</td>\n",
       "    </tr>\n",
       "    <tr>\n",
       "      <th>1</th>\n",
       "      <td>2</td>\n",
       "      <td>1</td>\n",
       "      <td>1</td>\n",
       "      <td>Cumings, Mrs. John Bradley (Florence Briggs Th...</td>\n",
       "      <td>female</td>\n",
       "      <td>38.0</td>\n",
       "      <td>1</td>\n",
       "      <td>0</td>\n",
       "      <td>PC 17599</td>\n",
       "      <td>71.2833</td>\n",
       "      <td>C85</td>\n",
       "      <td>C</td>\n",
       "    </tr>\n",
       "    <tr>\n",
       "      <th>2</th>\n",
       "      <td>3</td>\n",
       "      <td>1</td>\n",
       "      <td>3</td>\n",
       "      <td>Heikkinen, Miss. Laina</td>\n",
       "      <td>female</td>\n",
       "      <td>26.0</td>\n",
       "      <td>0</td>\n",
       "      <td>0</td>\n",
       "      <td>STON/O2. 3101282</td>\n",
       "      <td>7.9250</td>\n",
       "      <td>NaN</td>\n",
       "      <td>S</td>\n",
       "    </tr>\n",
       "    <tr>\n",
       "      <th>3</th>\n",
       "      <td>4</td>\n",
       "      <td>1</td>\n",
       "      <td>1</td>\n",
       "      <td>Futrelle, Mrs. Jacques Heath (Lily May Peel)</td>\n",
       "      <td>female</td>\n",
       "      <td>35.0</td>\n",
       "      <td>1</td>\n",
       "      <td>0</td>\n",
       "      <td>113803</td>\n",
       "      <td>53.1000</td>\n",
       "      <td>C123</td>\n",
       "      <td>S</td>\n",
       "    </tr>\n",
       "    <tr>\n",
       "      <th>4</th>\n",
       "      <td>5</td>\n",
       "      <td>0</td>\n",
       "      <td>3</td>\n",
       "      <td>Allen, Mr. William Henry</td>\n",
       "      <td>male</td>\n",
       "      <td>35.0</td>\n",
       "      <td>0</td>\n",
       "      <td>0</td>\n",
       "      <td>373450</td>\n",
       "      <td>8.0500</td>\n",
       "      <td>NaN</td>\n",
       "      <td>S</td>\n",
       "    </tr>\n",
       "  </tbody>\n",
       "</table>\n",
       "</div>"
      ],
      "text/plain": [
       "   PassengerId  Survived  Pclass  \\\n",
       "0            1         0       3   \n",
       "1            2         1       1   \n",
       "2            3         1       3   \n",
       "3            4         1       1   \n",
       "4            5         0       3   \n",
       "\n",
       "                                                Name     Sex   Age  SibSp  \\\n",
       "0                            Braund, Mr. Owen Harris    male  22.0      1   \n",
       "1  Cumings, Mrs. John Bradley (Florence Briggs Th...  female  38.0      1   \n",
       "2                             Heikkinen, Miss. Laina  female  26.0      0   \n",
       "3       Futrelle, Mrs. Jacques Heath (Lily May Peel)  female  35.0      1   \n",
       "4                           Allen, Mr. William Henry    male  35.0      0   \n",
       "\n",
       "   Parch            Ticket     Fare Cabin Embarked  \n",
       "0      0         A/5 21171   7.2500   NaN        S  \n",
       "1      0          PC 17599  71.2833   C85        C  \n",
       "2      0  STON/O2. 3101282   7.9250   NaN        S  \n",
       "3      0            113803  53.1000  C123        S  \n",
       "4      0            373450   8.0500   NaN        S  "
      ]
     },
     "execution_count": 3,
     "metadata": {},
     "output_type": "execute_result"
    }
   ],
   "source": [
    "# Dataset de treino\n",
    "train.head()"
   ]
  },
  {
   "cell_type": "code",
   "execution_count": 4,
   "metadata": {},
   "outputs": [
    {
     "data": {
      "text/html": [
       "<div>\n",
       "<style scoped>\n",
       "    .dataframe tbody tr th:only-of-type {\n",
       "        vertical-align: middle;\n",
       "    }\n",
       "\n",
       "    .dataframe tbody tr th {\n",
       "        vertical-align: top;\n",
       "    }\n",
       "\n",
       "    .dataframe thead th {\n",
       "        text-align: right;\n",
       "    }\n",
       "</style>\n",
       "<table border=\"1\" class=\"dataframe\">\n",
       "  <thead>\n",
       "    <tr style=\"text-align: right;\">\n",
       "      <th></th>\n",
       "      <th>PassengerId</th>\n",
       "      <th>Pclass</th>\n",
       "      <th>Name</th>\n",
       "      <th>Sex</th>\n",
       "      <th>Age</th>\n",
       "      <th>SibSp</th>\n",
       "      <th>Parch</th>\n",
       "      <th>Ticket</th>\n",
       "      <th>Fare</th>\n",
       "      <th>Cabin</th>\n",
       "      <th>Embarked</th>\n",
       "    </tr>\n",
       "  </thead>\n",
       "  <tbody>\n",
       "    <tr>\n",
       "      <th>0</th>\n",
       "      <td>892</td>\n",
       "      <td>3</td>\n",
       "      <td>Kelly, Mr. James</td>\n",
       "      <td>male</td>\n",
       "      <td>34.5</td>\n",
       "      <td>0</td>\n",
       "      <td>0</td>\n",
       "      <td>330911</td>\n",
       "      <td>7.8292</td>\n",
       "      <td>NaN</td>\n",
       "      <td>Q</td>\n",
       "    </tr>\n",
       "    <tr>\n",
       "      <th>1</th>\n",
       "      <td>893</td>\n",
       "      <td>3</td>\n",
       "      <td>Wilkes, Mrs. James (Ellen Needs)</td>\n",
       "      <td>female</td>\n",
       "      <td>47.0</td>\n",
       "      <td>1</td>\n",
       "      <td>0</td>\n",
       "      <td>363272</td>\n",
       "      <td>7.0000</td>\n",
       "      <td>NaN</td>\n",
       "      <td>S</td>\n",
       "    </tr>\n",
       "    <tr>\n",
       "      <th>2</th>\n",
       "      <td>894</td>\n",
       "      <td>2</td>\n",
       "      <td>Myles, Mr. Thomas Francis</td>\n",
       "      <td>male</td>\n",
       "      <td>62.0</td>\n",
       "      <td>0</td>\n",
       "      <td>0</td>\n",
       "      <td>240276</td>\n",
       "      <td>9.6875</td>\n",
       "      <td>NaN</td>\n",
       "      <td>Q</td>\n",
       "    </tr>\n",
       "    <tr>\n",
       "      <th>3</th>\n",
       "      <td>895</td>\n",
       "      <td>3</td>\n",
       "      <td>Wirz, Mr. Albert</td>\n",
       "      <td>male</td>\n",
       "      <td>27.0</td>\n",
       "      <td>0</td>\n",
       "      <td>0</td>\n",
       "      <td>315154</td>\n",
       "      <td>8.6625</td>\n",
       "      <td>NaN</td>\n",
       "      <td>S</td>\n",
       "    </tr>\n",
       "    <tr>\n",
       "      <th>4</th>\n",
       "      <td>896</td>\n",
       "      <td>3</td>\n",
       "      <td>Hirvonen, Mrs. Alexander (Helga E Lindqvist)</td>\n",
       "      <td>female</td>\n",
       "      <td>22.0</td>\n",
       "      <td>1</td>\n",
       "      <td>1</td>\n",
       "      <td>3101298</td>\n",
       "      <td>12.2875</td>\n",
       "      <td>NaN</td>\n",
       "      <td>S</td>\n",
       "    </tr>\n",
       "  </tbody>\n",
       "</table>\n",
       "</div>"
      ],
      "text/plain": [
       "   PassengerId  Pclass                                          Name     Sex  \\\n",
       "0          892       3                              Kelly, Mr. James    male   \n",
       "1          893       3              Wilkes, Mrs. James (Ellen Needs)  female   \n",
       "2          894       2                     Myles, Mr. Thomas Francis    male   \n",
       "3          895       3                              Wirz, Mr. Albert    male   \n",
       "4          896       3  Hirvonen, Mrs. Alexander (Helga E Lindqvist)  female   \n",
       "\n",
       "    Age  SibSp  Parch   Ticket     Fare Cabin Embarked  \n",
       "0  34.5      0      0   330911   7.8292   NaN        Q  \n",
       "1  47.0      1      0   363272   7.0000   NaN        S  \n",
       "2  62.0      0      0   240276   9.6875   NaN        Q  \n",
       "3  27.0      0      0   315154   8.6625   NaN        S  \n",
       "4  22.0      1      1  3101298  12.2875   NaN        S  "
      ]
     },
     "execution_count": 4,
     "metadata": {},
     "output_type": "execute_result"
    }
   ],
   "source": [
    "# Dataset de teste\n",
    "test.head()"
   ]
  },
  {
   "cell_type": "markdown",
   "metadata": {},
   "source": [
    "Aqui irei juntar os Datasets de treino e teste para facilitar."
   ]
  },
  {
   "cell_type": "code",
   "execution_count": 5,
   "metadata": {},
   "outputs": [
    {
     "data": {
      "text/html": [
       "<div>\n",
       "<style scoped>\n",
       "    .dataframe tbody tr th:only-of-type {\n",
       "        vertical-align: middle;\n",
       "    }\n",
       "\n",
       "    .dataframe tbody tr th {\n",
       "        vertical-align: top;\n",
       "    }\n",
       "\n",
       "    .dataframe thead th {\n",
       "        text-align: right;\n",
       "    }\n",
       "</style>\n",
       "<table border=\"1\" class=\"dataframe\">\n",
       "  <thead>\n",
       "    <tr style=\"text-align: right;\">\n",
       "      <th></th>\n",
       "      <th></th>\n",
       "      <th>PassengerId</th>\n",
       "      <th>Survived</th>\n",
       "      <th>Pclass</th>\n",
       "      <th>Name</th>\n",
       "      <th>Sex</th>\n",
       "      <th>Age</th>\n",
       "      <th>SibSp</th>\n",
       "      <th>Parch</th>\n",
       "      <th>Ticket</th>\n",
       "      <th>Fare</th>\n",
       "      <th>Cabin</th>\n",
       "      <th>Embarked</th>\n",
       "    </tr>\n",
       "  </thead>\n",
       "  <tbody>\n",
       "    <tr>\n",
       "      <th rowspan=\"5\" valign=\"top\">1</th>\n",
       "      <th>0</th>\n",
       "      <td>1</td>\n",
       "      <td>0.0</td>\n",
       "      <td>3</td>\n",
       "      <td>Braund, Mr. Owen Harris</td>\n",
       "      <td>male</td>\n",
       "      <td>22.0</td>\n",
       "      <td>1</td>\n",
       "      <td>0</td>\n",
       "      <td>A/5 21171</td>\n",
       "      <td>7.2500</td>\n",
       "      <td>NaN</td>\n",
       "      <td>S</td>\n",
       "    </tr>\n",
       "    <tr>\n",
       "      <th>1</th>\n",
       "      <td>2</td>\n",
       "      <td>1.0</td>\n",
       "      <td>1</td>\n",
       "      <td>Cumings, Mrs. John Bradley (Florence Briggs Th...</td>\n",
       "      <td>female</td>\n",
       "      <td>38.0</td>\n",
       "      <td>1</td>\n",
       "      <td>0</td>\n",
       "      <td>PC 17599</td>\n",
       "      <td>71.2833</td>\n",
       "      <td>C85</td>\n",
       "      <td>C</td>\n",
       "    </tr>\n",
       "    <tr>\n",
       "      <th>2</th>\n",
       "      <td>3</td>\n",
       "      <td>1.0</td>\n",
       "      <td>3</td>\n",
       "      <td>Heikkinen, Miss. Laina</td>\n",
       "      <td>female</td>\n",
       "      <td>26.0</td>\n",
       "      <td>0</td>\n",
       "      <td>0</td>\n",
       "      <td>STON/O2. 3101282</td>\n",
       "      <td>7.9250</td>\n",
       "      <td>NaN</td>\n",
       "      <td>S</td>\n",
       "    </tr>\n",
       "    <tr>\n",
       "      <th>3</th>\n",
       "      <td>4</td>\n",
       "      <td>1.0</td>\n",
       "      <td>1</td>\n",
       "      <td>Futrelle, Mrs. Jacques Heath (Lily May Peel)</td>\n",
       "      <td>female</td>\n",
       "      <td>35.0</td>\n",
       "      <td>1</td>\n",
       "      <td>0</td>\n",
       "      <td>113803</td>\n",
       "      <td>53.1000</td>\n",
       "      <td>C123</td>\n",
       "      <td>S</td>\n",
       "    </tr>\n",
       "    <tr>\n",
       "      <th>4</th>\n",
       "      <td>5</td>\n",
       "      <td>0.0</td>\n",
       "      <td>3</td>\n",
       "      <td>Allen, Mr. William Henry</td>\n",
       "      <td>male</td>\n",
       "      <td>35.0</td>\n",
       "      <td>0</td>\n",
       "      <td>0</td>\n",
       "      <td>373450</td>\n",
       "      <td>8.0500</td>\n",
       "      <td>NaN</td>\n",
       "      <td>S</td>\n",
       "    </tr>\n",
       "    <tr>\n",
       "      <th>...</th>\n",
       "      <th>...</th>\n",
       "      <td>...</td>\n",
       "      <td>...</td>\n",
       "      <td>...</td>\n",
       "      <td>...</td>\n",
       "      <td>...</td>\n",
       "      <td>...</td>\n",
       "      <td>...</td>\n",
       "      <td>...</td>\n",
       "      <td>...</td>\n",
       "      <td>...</td>\n",
       "      <td>...</td>\n",
       "      <td>...</td>\n",
       "    </tr>\n",
       "    <tr>\n",
       "      <th rowspan=\"5\" valign=\"top\">2</th>\n",
       "      <th>413</th>\n",
       "      <td>1305</td>\n",
       "      <td>NaN</td>\n",
       "      <td>3</td>\n",
       "      <td>Spector, Mr. Woolf</td>\n",
       "      <td>male</td>\n",
       "      <td>NaN</td>\n",
       "      <td>0</td>\n",
       "      <td>0</td>\n",
       "      <td>A.5. 3236</td>\n",
       "      <td>8.0500</td>\n",
       "      <td>NaN</td>\n",
       "      <td>S</td>\n",
       "    </tr>\n",
       "    <tr>\n",
       "      <th>414</th>\n",
       "      <td>1306</td>\n",
       "      <td>NaN</td>\n",
       "      <td>1</td>\n",
       "      <td>Oliva y Ocana, Dona. Fermina</td>\n",
       "      <td>female</td>\n",
       "      <td>39.0</td>\n",
       "      <td>0</td>\n",
       "      <td>0</td>\n",
       "      <td>PC 17758</td>\n",
       "      <td>108.9000</td>\n",
       "      <td>C105</td>\n",
       "      <td>C</td>\n",
       "    </tr>\n",
       "    <tr>\n",
       "      <th>415</th>\n",
       "      <td>1307</td>\n",
       "      <td>NaN</td>\n",
       "      <td>3</td>\n",
       "      <td>Saether, Mr. Simon Sivertsen</td>\n",
       "      <td>male</td>\n",
       "      <td>38.5</td>\n",
       "      <td>0</td>\n",
       "      <td>0</td>\n",
       "      <td>SOTON/O.Q. 3101262</td>\n",
       "      <td>7.2500</td>\n",
       "      <td>NaN</td>\n",
       "      <td>S</td>\n",
       "    </tr>\n",
       "    <tr>\n",
       "      <th>416</th>\n",
       "      <td>1308</td>\n",
       "      <td>NaN</td>\n",
       "      <td>3</td>\n",
       "      <td>Ware, Mr. Frederick</td>\n",
       "      <td>male</td>\n",
       "      <td>NaN</td>\n",
       "      <td>0</td>\n",
       "      <td>0</td>\n",
       "      <td>359309</td>\n",
       "      <td>8.0500</td>\n",
       "      <td>NaN</td>\n",
       "      <td>S</td>\n",
       "    </tr>\n",
       "    <tr>\n",
       "      <th>417</th>\n",
       "      <td>1309</td>\n",
       "      <td>NaN</td>\n",
       "      <td>3</td>\n",
       "      <td>Peter, Master. Michael J</td>\n",
       "      <td>male</td>\n",
       "      <td>NaN</td>\n",
       "      <td>1</td>\n",
       "      <td>1</td>\n",
       "      <td>2668</td>\n",
       "      <td>22.3583</td>\n",
       "      <td>NaN</td>\n",
       "      <td>C</td>\n",
       "    </tr>\n",
       "  </tbody>\n",
       "</table>\n",
       "<p>1309 rows × 12 columns</p>\n",
       "</div>"
      ],
      "text/plain": [
       "       PassengerId  Survived  Pclass  \\\n",
       "1 0              1       0.0       3   \n",
       "  1              2       1.0       1   \n",
       "  2              3       1.0       3   \n",
       "  3              4       1.0       1   \n",
       "  4              5       0.0       3   \n",
       "...            ...       ...     ...   \n",
       "2 413         1305       NaN       3   \n",
       "  414         1306       NaN       1   \n",
       "  415         1307       NaN       3   \n",
       "  416         1308       NaN       3   \n",
       "  417         1309       NaN       3   \n",
       "\n",
       "                                                    Name     Sex   Age  SibSp  \\\n",
       "1 0                              Braund, Mr. Owen Harris    male  22.0      1   \n",
       "  1    Cumings, Mrs. John Bradley (Florence Briggs Th...  female  38.0      1   \n",
       "  2                               Heikkinen, Miss. Laina  female  26.0      0   \n",
       "  3         Futrelle, Mrs. Jacques Heath (Lily May Peel)  female  35.0      1   \n",
       "  4                             Allen, Mr. William Henry    male  35.0      0   \n",
       "...                                                  ...     ...   ...    ...   \n",
       "2 413                                 Spector, Mr. Woolf    male   NaN      0   \n",
       "  414                       Oliva y Ocana, Dona. Fermina  female  39.0      0   \n",
       "  415                       Saether, Mr. Simon Sivertsen    male  38.5      0   \n",
       "  416                                Ware, Mr. Frederick    male   NaN      0   \n",
       "  417                           Peter, Master. Michael J    male   NaN      1   \n",
       "\n",
       "       Parch              Ticket      Fare Cabin Embarked  \n",
       "1 0        0           A/5 21171    7.2500   NaN        S  \n",
       "  1        0            PC 17599   71.2833   C85        C  \n",
       "  2        0    STON/O2. 3101282    7.9250   NaN        S  \n",
       "  3        0              113803   53.1000  C123        S  \n",
       "  4        0              373450    8.0500   NaN        S  \n",
       "...      ...                 ...       ...   ...      ...  \n",
       "2 413      0           A.5. 3236    8.0500   NaN        S  \n",
       "  414      0            PC 17758  108.9000  C105        C  \n",
       "  415      0  SOTON/O.Q. 3101262    7.2500   NaN        S  \n",
       "  416      0              359309    8.0500   NaN        S  \n",
       "  417      1                2668   22.3583   NaN        C  \n",
       "\n",
       "[1309 rows x 12 columns]"
      ]
     },
     "execution_count": 5,
     "metadata": {},
     "output_type": "execute_result"
    }
   ],
   "source": [
    "train_test = pd.concat([train, test], keys=[1, 2], axis=0)\n",
    "train_test"
   ]
  },
  {
   "cell_type": "markdown",
   "metadata": {},
   "source": [
    "## Análise inicial dos dados\n",
    "\n",
    "Primeiramente é possível perceber que alguns dados estão faltando (tirando o Survived pois os dados de teste não têm esse atributo) como Age e Cabin, Embarked tem apenas dois faltando.\n",
    "Segundo que quando uni os datasets o atributo Survived ficou com o tipo errado, tirando isso todos os outros estão com o tipo correto."
   ]
  },
  {
   "cell_type": "code",
   "execution_count": 6,
   "metadata": {},
   "outputs": [
    {
     "name": "stdout",
     "output_type": "stream",
     "text": [
      "<class 'pandas.core.frame.DataFrame'>\n",
      "MultiIndex: 1309 entries, (1, 0) to (2, 417)\n",
      "Data columns (total 12 columns):\n",
      " #   Column       Non-Null Count  Dtype  \n",
      "---  ------       --------------  -----  \n",
      " 0   PassengerId  1309 non-null   int64  \n",
      " 1   Survived     891 non-null    float64\n",
      " 2   Pclass       1309 non-null   int64  \n",
      " 3   Name         1309 non-null   object \n",
      " 4   Sex          1309 non-null   object \n",
      " 5   Age          1046 non-null   float64\n",
      " 6   SibSp        1309 non-null   int64  \n",
      " 7   Parch        1309 non-null   int64  \n",
      " 8   Ticket       1309 non-null   object \n",
      " 9   Fare         1308 non-null   float64\n",
      " 10  Cabin        295 non-null    object \n",
      " 11  Embarked     1307 non-null   object \n",
      "dtypes: float64(3), int64(4), object(5)\n",
      "memory usage: 133.6+ KB\n"
     ]
    }
   ],
   "source": [
    "train_test.info()"
   ]
  },
  {
   "cell_type": "markdown",
   "metadata": {},
   "source": [
    "Aqui algumas estatíticas sobre os atributos numericos do dataset como:\n",
    "- A idade mínima dos passageiros é de 0 como um bebê e a máxima de 80;\n",
    "- A idade média dos passageiros é de 30;\n",
    "- Alguém pagou 0 pela passagem, pode se considerar tripulação ou algum convidado;"
   ]
  },
  {
   "cell_type": "code",
   "execution_count": 7,
   "metadata": {
    "scrolled": true
   },
   "outputs": [
    {
     "data": {
      "text/html": [
       "<div>\n",
       "<style scoped>\n",
       "    .dataframe tbody tr th:only-of-type {\n",
       "        vertical-align: middle;\n",
       "    }\n",
       "\n",
       "    .dataframe tbody tr th {\n",
       "        vertical-align: top;\n",
       "    }\n",
       "\n",
       "    .dataframe thead th {\n",
       "        text-align: right;\n",
       "    }\n",
       "</style>\n",
       "<table border=\"1\" class=\"dataframe\">\n",
       "  <thead>\n",
       "    <tr style=\"text-align: right;\">\n",
       "      <th></th>\n",
       "      <th>PassengerId</th>\n",
       "      <th>Survived</th>\n",
       "      <th>Pclass</th>\n",
       "      <th>Age</th>\n",
       "      <th>SibSp</th>\n",
       "      <th>Parch</th>\n",
       "      <th>Fare</th>\n",
       "    </tr>\n",
       "  </thead>\n",
       "  <tbody>\n",
       "    <tr>\n",
       "      <th>count</th>\n",
       "      <td>1309.000000</td>\n",
       "      <td>891.000000</td>\n",
       "      <td>1309.000000</td>\n",
       "      <td>1046.000000</td>\n",
       "      <td>1309.000000</td>\n",
       "      <td>1309.000000</td>\n",
       "      <td>1308.000000</td>\n",
       "    </tr>\n",
       "    <tr>\n",
       "      <th>mean</th>\n",
       "      <td>655.000000</td>\n",
       "      <td>0.383838</td>\n",
       "      <td>2.294882</td>\n",
       "      <td>29.881138</td>\n",
       "      <td>0.498854</td>\n",
       "      <td>0.385027</td>\n",
       "      <td>33.295479</td>\n",
       "    </tr>\n",
       "    <tr>\n",
       "      <th>std</th>\n",
       "      <td>378.020061</td>\n",
       "      <td>0.486592</td>\n",
       "      <td>0.837836</td>\n",
       "      <td>14.413493</td>\n",
       "      <td>1.041658</td>\n",
       "      <td>0.865560</td>\n",
       "      <td>51.758668</td>\n",
       "    </tr>\n",
       "    <tr>\n",
       "      <th>min</th>\n",
       "      <td>1.000000</td>\n",
       "      <td>0.000000</td>\n",
       "      <td>1.000000</td>\n",
       "      <td>0.170000</td>\n",
       "      <td>0.000000</td>\n",
       "      <td>0.000000</td>\n",
       "      <td>0.000000</td>\n",
       "    </tr>\n",
       "    <tr>\n",
       "      <th>25%</th>\n",
       "      <td>328.000000</td>\n",
       "      <td>0.000000</td>\n",
       "      <td>2.000000</td>\n",
       "      <td>21.000000</td>\n",
       "      <td>0.000000</td>\n",
       "      <td>0.000000</td>\n",
       "      <td>7.895800</td>\n",
       "    </tr>\n",
       "    <tr>\n",
       "      <th>50%</th>\n",
       "      <td>655.000000</td>\n",
       "      <td>0.000000</td>\n",
       "      <td>3.000000</td>\n",
       "      <td>28.000000</td>\n",
       "      <td>0.000000</td>\n",
       "      <td>0.000000</td>\n",
       "      <td>14.454200</td>\n",
       "    </tr>\n",
       "    <tr>\n",
       "      <th>75%</th>\n",
       "      <td>982.000000</td>\n",
       "      <td>1.000000</td>\n",
       "      <td>3.000000</td>\n",
       "      <td>39.000000</td>\n",
       "      <td>1.000000</td>\n",
       "      <td>0.000000</td>\n",
       "      <td>31.275000</td>\n",
       "    </tr>\n",
       "    <tr>\n",
       "      <th>max</th>\n",
       "      <td>1309.000000</td>\n",
       "      <td>1.000000</td>\n",
       "      <td>3.000000</td>\n",
       "      <td>80.000000</td>\n",
       "      <td>8.000000</td>\n",
       "      <td>9.000000</td>\n",
       "      <td>512.329200</td>\n",
       "    </tr>\n",
       "  </tbody>\n",
       "</table>\n",
       "</div>"
      ],
      "text/plain": [
       "       PassengerId    Survived       Pclass          Age        SibSp  \\\n",
       "count  1309.000000  891.000000  1309.000000  1046.000000  1309.000000   \n",
       "mean    655.000000    0.383838     2.294882    29.881138     0.498854   \n",
       "std     378.020061    0.486592     0.837836    14.413493     1.041658   \n",
       "min       1.000000    0.000000     1.000000     0.170000     0.000000   \n",
       "25%     328.000000    0.000000     2.000000    21.000000     0.000000   \n",
       "50%     655.000000    0.000000     3.000000    28.000000     0.000000   \n",
       "75%     982.000000    1.000000     3.000000    39.000000     1.000000   \n",
       "max    1309.000000    1.000000     3.000000    80.000000     8.000000   \n",
       "\n",
       "             Parch         Fare  \n",
       "count  1309.000000  1308.000000  \n",
       "mean      0.385027    33.295479  \n",
       "std       0.865560    51.758668  \n",
       "min       0.000000     0.000000  \n",
       "25%       0.000000     7.895800  \n",
       "50%       0.000000    14.454200  \n",
       "75%       0.000000    31.275000  \n",
       "max       9.000000   512.329200  "
      ]
     },
     "execution_count": 7,
     "metadata": {},
     "output_type": "execute_result"
    }
   ],
   "source": [
    "train_test.describe()"
   ]
  },
  {
   "cell_type": "markdown",
   "metadata": {},
   "source": [
    "Aqui os gráficos com a contagem de quantas pessoas sobreviveram e quantas de cada sexo estavam no navio (de acordo com o Dataset de treino):\n",
    "- O número de mortos é maior;\n",
    "- O número de homens é maior;"
   ]
  },
  {
   "cell_type": "code",
   "execution_count": 8,
   "metadata": {
    "scrolled": true
   },
   "outputs": [
    {
     "data": {
      "image/png": "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\n",
      "text/plain": [
       "<Figure size 1008x288 with 2 Axes>"
      ]
     },
     "metadata": {},
     "output_type": "display_data"
    }
   ],
   "source": [
    "sns.set_palette('Accent')\n",
    "sns.set_style('dark')\n",
    "\n",
    "plt.figure(figsize=(14, 4))\n",
    "plt.subplot(1, 2, 1)\n",
    "ax = sns.countplot(train.Survived)\n",
    "\n",
    "plt.title('Número de sobreviventes (Treino)', fontsize=18, loc='Left')\n",
    "ax.set_xlabel('Sobreviveu', fontsize=14)\n",
    "ax.set_ylabel('Pessoas', fontsize=14)\n",
    "ax.set_yticks([])\n",
    "ax.set_xticklabels(['Não', 'Sim'], fontsize=12)\n",
    "\n",
    "labels = (train['Survived'].value_counts())\n",
    "for i, v in enumerate(labels):\n",
    "    ax.text(i, v-40, str(v), horizontalalignment = 'center', size = 14, color = 'w', fontweight = 'bold')\n",
    "\n",
    "plt.subplot(1, 2, 2)\n",
    "ax = sns.countplot(train.Sex)\n",
    "\n",
    "plt.title('Número de pessoas por gênero (Treino)', fontsize=18, loc='Left')\n",
    "ax.set_xlabel('Gênero', fontsize=14)\n",
    "ax.set_ylabel('')\n",
    "ax.set_yticks([])\n",
    "ax.set_xticklabels(['Masculino', 'Feminino'], fontsize=12)\n",
    "\n",
    "labels = (train['Sex'].value_counts())\n",
    "for i, v in enumerate(labels):\n",
    "    ax.text(i, v-40, str(v), horizontalalignment = 'center', size = 14, color = 'w', fontweight = 'bold')"
   ]
  },
  {
   "cell_type": "markdown",
   "metadata": {},
   "source": [
    "Apesar de haver mais homens a bordo, 74% das mulheres sobreviveram e apenas 19% dos homens sobreviveram, a famosa frase de \"mulheres e crianças primeiro\" pode ter impactado nisso."
   ]
  },
  {
   "cell_type": "code",
   "execution_count": 9,
   "metadata": {},
   "outputs": [
    {
     "data": {
      "text/plain": [
       "Sex\n",
       "female    0.742038\n",
       "male      0.188908\n",
       "Name: Survived, dtype: float64"
      ]
     },
     "execution_count": 9,
     "metadata": {},
     "output_type": "execute_result"
    }
   ],
   "source": [
    "train.groupby('Sex')['Survived'].mean()"
   ]
  },
  {
   "cell_type": "markdown",
   "metadata": {},
   "source": [
    "Aqui os gráficos trazem a distribuição da idade dos que não sobreviveram (a esquerda) e os que sobreviveram (a direita), pode-se perceber um número maior de sobrevivente entre 0 e 20 comparado aos que não sobreviveram, ou seja, muitas crianças se salvaram."
   ]
  },
  {
   "cell_type": "code",
   "execution_count": 10,
   "metadata": {},
   "outputs": [
    {
     "data": {
      "text/plain": [
       "<seaborn.axisgrid.FacetGrid at 0x230810cd358>"
      ]
     },
     "execution_count": 10,
     "metadata": {},
     "output_type": "execute_result"
    },
    {
     "data": {
      "image/png": "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\n",
      "text/plain": [
       "<Figure size 432x216 with 2 Axes>"
      ]
     },
     "metadata": {},
     "output_type": "display_data"
    }
   ],
   "source": [
    "ax = sns.FacetGrid(train, col='Survived')\n",
    "ax.map(sns.distplot, 'Age')"
   ]
  },
  {
   "cell_type": "markdown",
   "metadata": {},
   "source": [
    "Com os dois datasets juntos, esse gráfico que mostra as variáveis SibSp (irmão e cônjuge) e Parch (pais e filhos), mostra que a maioria das pessoas aparentemente estavam sozinhas (podem ser empregados do navio) ou em casal.  "
   ]
  },
  {
   "cell_type": "code",
   "execution_count": 11,
   "metadata": {
    "scrolled": true
   },
   "outputs": [
    {
     "data": {
      "image/png": "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\n",
      "text/plain": [
       "<Figure size 720x288 with 2 Axes>"
      ]
     },
     "metadata": {},
     "output_type": "display_data"
    }
   ],
   "source": [
    "plt.figure(figsize=(10, 4))\n",
    "plt.subplot(1, 2, 1)\n",
    "ax = sns.countplot(train_test.SibSp)\n",
    "\n",
    "ax.set_xlabel('Irmãos/Cônjuge', fontsize=14)\n",
    "ax.set_ylabel('Pessoas', fontsize=14)\n",
    "ax.set_xticklabels(ax.get_xticks(), fontsize=12)\n",
    "ax.set_yticklabels(ax.get_yticks(), fontsize=12)\n",
    "\n",
    "plt.subplot(1, 2, 2)\n",
    "ax = sns.countplot(train_test.Parch)\n",
    "\n",
    "ax.set_xlabel('Pais/Filhos', fontsize=14)\n",
    "ax.set_ylabel('')\n",
    "ax.set_xticklabels(ax.get_xticks(), fontsize=12)\n",
    "ax.set_yticklabels(ax.get_yticks(), fontsize=12)\n",
    "\n",
    "ax = ax"
   ]
  },
  {
   "cell_type": "markdown",
   "metadata": {},
   "source": [
    "Esse gráfico mostra onde as pessoas embarcaram e em que classe, a maioria das pessoas embarcaram no porto de Southampton e a maioria das pessoas estavam na 3ª classe."
   ]
  },
  {
   "cell_type": "code",
   "execution_count": 12,
   "metadata": {
    "scrolled": true
   },
   "outputs": [
    {
     "data": {
      "image/png": "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\n",
      "text/plain": [
       "<Figure size 720x360 with 2 Axes>"
      ]
     },
     "metadata": {},
     "output_type": "display_data"
    }
   ],
   "source": [
    "plt.figure(figsize=(10, 5))\n",
    "plt.subplot(1, 2, 1)\n",
    "ax = sns.countplot(train_test.Embarked)\n",
    "\n",
    "ax.set_xlabel('Embarcou', fontsize=14)\n",
    "ax.set_ylabel('Pessoas', fontsize=14)\n",
    "ax.set_xticklabels(['S', 'C', 'Q'], fontsize=12)\n",
    "ax.set_yticklabels(ax.get_yticks(), fontsize=12)\n",
    "\n",
    "plt.subplot(1, 2, 2)\n",
    "ax = sns.countplot(train_test.Pclass)\n",
    "\n",
    "ax.set_xlabel('Classe', fontsize=14)\n",
    "ax.set_ylabel('')\n",
    "ax.set_xticklabels([1, 2, 3], fontsize=12)\n",
    "ax.set_yticklabels(ax.get_yticks(), fontsize=12)\n",
    "\n",
    "ax=ax"
   ]
  },
  {
   "cell_type": "markdown",
   "metadata": {},
   "source": [
    "Apesar disso apenas 33% das pessoas que embarcaram em Southampton sobreviveram, sendo que 55% das que embarcaram em Cherbourg sobreviveram."
   ]
  },
  {
   "cell_type": "code",
   "execution_count": 13,
   "metadata": {},
   "outputs": [
    {
     "data": {
      "text/plain": [
       "Embarked\n",
       "C    0.553571\n",
       "Q    0.389610\n",
       "S    0.336957\n",
       "Name: Survived, dtype: float64"
      ]
     },
     "execution_count": 13,
     "metadata": {},
     "output_type": "execute_result"
    }
   ],
   "source": [
    "train_test.groupby('Embarked')['Survived'].mean()"
   ]
  },
  {
   "cell_type": "markdown",
   "metadata": {},
   "source": [
    "Apesar de ser maioria, apenas 24% das pessoas que embarcaram na 3ª classe sobreviveram, de quem estava na 1ª classe sobreviveu 62%."
   ]
  },
  {
   "cell_type": "code",
   "execution_count": 14,
   "metadata": {},
   "outputs": [
    {
     "data": {
      "text/plain": [
       "Pclass\n",
       "1    0.629630\n",
       "2    0.472826\n",
       "3    0.242363\n",
       "Name: Survived, dtype: float64"
      ]
     },
     "execution_count": 14,
     "metadata": {},
     "output_type": "execute_result"
    }
   ],
   "source": [
    "train_test.groupby('Pclass')['Survived'].mean()"
   ]
  },
  {
   "cell_type": "markdown",
   "metadata": {},
   "source": [
    "Usando a mediana, o preço da 1ª classe era quase 6 vezes maior que o da 3ª classe."
   ]
  },
  {
   "cell_type": "code",
   "execution_count": 15,
   "metadata": {},
   "outputs": [
    {
     "data": {
      "text/plain": [
       "Pclass\n",
       "1    60.0000\n",
       "2    15.0458\n",
       "3     8.0500\n",
       "Name: Fare, dtype: float64"
      ]
     },
     "execution_count": 15,
     "metadata": {},
     "output_type": "execute_result"
    }
   ],
   "source": [
    "train_test.groupby('Pclass')['Fare'].median()"
   ]
  },
  {
   "cell_type": "markdown",
   "metadata": {},
   "source": [
    "E parece que as pessoas que embarcaram em Southampton pagaram mais barato em tickets para 1ª classe."
   ]
  },
  {
   "cell_type": "code",
   "execution_count": 16,
   "metadata": {},
   "outputs": [
    {
     "data": {
      "text/plain": [
       "Embarked  Pclass\n",
       "C         1         76.7292\n",
       "          2         15.3146\n",
       "          3          7.8958\n",
       "Q         1         90.0000\n",
       "          2         12.3500\n",
       "          3          7.7500\n",
       "S         1         52.0000\n",
       "          2         15.3750\n",
       "          3          8.0500\n",
       "Name: Fare, dtype: float64"
      ]
     },
     "execution_count": 16,
     "metadata": {},
     "output_type": "execute_result"
    }
   ],
   "source": [
    "train_test.groupby(['Embarked', 'Pclass'])['Fare'].median()"
   ]
  },
  {
   "cell_type": "markdown",
   "metadata": {},
   "source": [
    "## Preparando os dados\n",
    "\n",
    "Aqui vou preencher os valores faltantes, utilizando o dataset com treino e teste juntos. "
   ]
  },
  {
   "cell_type": "code",
   "execution_count": 17,
   "metadata": {},
   "outputs": [
    {
     "data": {
      "text/plain": [
       "PassengerId       0\n",
       "Survived        418\n",
       "Pclass            0\n",
       "Name              0\n",
       "Sex               0\n",
       "Age             263\n",
       "SibSp             0\n",
       "Parch             0\n",
       "Ticket            0\n",
       "Fare              1\n",
       "Cabin          1014\n",
       "Embarked          2\n",
       "dtype: int64"
      ]
     },
     "execution_count": 17,
     "metadata": {},
     "output_type": "execute_result"
    }
   ],
   "source": [
    "train_test.isnull().sum()"
   ]
  },
  {
   "cell_type": "markdown",
   "metadata": {},
   "source": [
    "Irei retirar dois atributos:\n",
    "- Cabin, pois faltam muitos valores, a única forma seria fazer uma pesquisa.\n",
    "- Ticket, pois tem muitos valores diferentes e que acredito que não agrega muito ao modelo."
   ]
  },
  {
   "cell_type": "code",
   "execution_count": 18,
   "metadata": {},
   "outputs": [
    {
     "data": {
      "text/html": [
       "<div>\n",
       "<style scoped>\n",
       "    .dataframe tbody tr th:only-of-type {\n",
       "        vertical-align: middle;\n",
       "    }\n",
       "\n",
       "    .dataframe tbody tr th {\n",
       "        vertical-align: top;\n",
       "    }\n",
       "\n",
       "    .dataframe thead th {\n",
       "        text-align: right;\n",
       "    }\n",
       "</style>\n",
       "<table border=\"1\" class=\"dataframe\">\n",
       "  <thead>\n",
       "    <tr style=\"text-align: right;\">\n",
       "      <th></th>\n",
       "      <th></th>\n",
       "      <th>PassengerId</th>\n",
       "      <th>Survived</th>\n",
       "      <th>Pclass</th>\n",
       "      <th>Name</th>\n",
       "      <th>Sex</th>\n",
       "      <th>Age</th>\n",
       "      <th>SibSp</th>\n",
       "      <th>Parch</th>\n",
       "      <th>Fare</th>\n",
       "      <th>Embarked</th>\n",
       "    </tr>\n",
       "  </thead>\n",
       "  <tbody>\n",
       "    <tr>\n",
       "      <th rowspan=\"5\" valign=\"top\">1</th>\n",
       "      <th>0</th>\n",
       "      <td>1</td>\n",
       "      <td>0.0</td>\n",
       "      <td>3</td>\n",
       "      <td>Braund, Mr. Owen Harris</td>\n",
       "      <td>male</td>\n",
       "      <td>22.0</td>\n",
       "      <td>1</td>\n",
       "      <td>0</td>\n",
       "      <td>7.2500</td>\n",
       "      <td>S</td>\n",
       "    </tr>\n",
       "    <tr>\n",
       "      <th>1</th>\n",
       "      <td>2</td>\n",
       "      <td>1.0</td>\n",
       "      <td>1</td>\n",
       "      <td>Cumings, Mrs. John Bradley (Florence Briggs Th...</td>\n",
       "      <td>female</td>\n",
       "      <td>38.0</td>\n",
       "      <td>1</td>\n",
       "      <td>0</td>\n",
       "      <td>71.2833</td>\n",
       "      <td>C</td>\n",
       "    </tr>\n",
       "    <tr>\n",
       "      <th>2</th>\n",
       "      <td>3</td>\n",
       "      <td>1.0</td>\n",
       "      <td>3</td>\n",
       "      <td>Heikkinen, Miss. Laina</td>\n",
       "      <td>female</td>\n",
       "      <td>26.0</td>\n",
       "      <td>0</td>\n",
       "      <td>0</td>\n",
       "      <td>7.9250</td>\n",
       "      <td>S</td>\n",
       "    </tr>\n",
       "    <tr>\n",
       "      <th>3</th>\n",
       "      <td>4</td>\n",
       "      <td>1.0</td>\n",
       "      <td>1</td>\n",
       "      <td>Futrelle, Mrs. Jacques Heath (Lily May Peel)</td>\n",
       "      <td>female</td>\n",
       "      <td>35.0</td>\n",
       "      <td>1</td>\n",
       "      <td>0</td>\n",
       "      <td>53.1000</td>\n",
       "      <td>S</td>\n",
       "    </tr>\n",
       "    <tr>\n",
       "      <th>4</th>\n",
       "      <td>5</td>\n",
       "      <td>0.0</td>\n",
       "      <td>3</td>\n",
       "      <td>Allen, Mr. William Henry</td>\n",
       "      <td>male</td>\n",
       "      <td>35.0</td>\n",
       "      <td>0</td>\n",
       "      <td>0</td>\n",
       "      <td>8.0500</td>\n",
       "      <td>S</td>\n",
       "    </tr>\n",
       "    <tr>\n",
       "      <th>...</th>\n",
       "      <th>...</th>\n",
       "      <td>...</td>\n",
       "      <td>...</td>\n",
       "      <td>...</td>\n",
       "      <td>...</td>\n",
       "      <td>...</td>\n",
       "      <td>...</td>\n",
       "      <td>...</td>\n",
       "      <td>...</td>\n",
       "      <td>...</td>\n",
       "      <td>...</td>\n",
       "    </tr>\n",
       "    <tr>\n",
       "      <th rowspan=\"5\" valign=\"top\">2</th>\n",
       "      <th>413</th>\n",
       "      <td>1305</td>\n",
       "      <td>NaN</td>\n",
       "      <td>3</td>\n",
       "      <td>Spector, Mr. Woolf</td>\n",
       "      <td>male</td>\n",
       "      <td>NaN</td>\n",
       "      <td>0</td>\n",
       "      <td>0</td>\n",
       "      <td>8.0500</td>\n",
       "      <td>S</td>\n",
       "    </tr>\n",
       "    <tr>\n",
       "      <th>414</th>\n",
       "      <td>1306</td>\n",
       "      <td>NaN</td>\n",
       "      <td>1</td>\n",
       "      <td>Oliva y Ocana, Dona. Fermina</td>\n",
       "      <td>female</td>\n",
       "      <td>39.0</td>\n",
       "      <td>0</td>\n",
       "      <td>0</td>\n",
       "      <td>108.9000</td>\n",
       "      <td>C</td>\n",
       "    </tr>\n",
       "    <tr>\n",
       "      <th>415</th>\n",
       "      <td>1307</td>\n",
       "      <td>NaN</td>\n",
       "      <td>3</td>\n",
       "      <td>Saether, Mr. Simon Sivertsen</td>\n",
       "      <td>male</td>\n",
       "      <td>38.5</td>\n",
       "      <td>0</td>\n",
       "      <td>0</td>\n",
       "      <td>7.2500</td>\n",
       "      <td>S</td>\n",
       "    </tr>\n",
       "    <tr>\n",
       "      <th>416</th>\n",
       "      <td>1308</td>\n",
       "      <td>NaN</td>\n",
       "      <td>3</td>\n",
       "      <td>Ware, Mr. Frederick</td>\n",
       "      <td>male</td>\n",
       "      <td>NaN</td>\n",
       "      <td>0</td>\n",
       "      <td>0</td>\n",
       "      <td>8.0500</td>\n",
       "      <td>S</td>\n",
       "    </tr>\n",
       "    <tr>\n",
       "      <th>417</th>\n",
       "      <td>1309</td>\n",
       "      <td>NaN</td>\n",
       "      <td>3</td>\n",
       "      <td>Peter, Master. Michael J</td>\n",
       "      <td>male</td>\n",
       "      <td>NaN</td>\n",
       "      <td>1</td>\n",
       "      <td>1</td>\n",
       "      <td>22.3583</td>\n",
       "      <td>C</td>\n",
       "    </tr>\n",
       "  </tbody>\n",
       "</table>\n",
       "<p>1309 rows × 10 columns</p>\n",
       "</div>"
      ],
      "text/plain": [
       "       PassengerId  Survived  Pclass  \\\n",
       "1 0              1       0.0       3   \n",
       "  1              2       1.0       1   \n",
       "  2              3       1.0       3   \n",
       "  3              4       1.0       1   \n",
       "  4              5       0.0       3   \n",
       "...            ...       ...     ...   \n",
       "2 413         1305       NaN       3   \n",
       "  414         1306       NaN       1   \n",
       "  415         1307       NaN       3   \n",
       "  416         1308       NaN       3   \n",
       "  417         1309       NaN       3   \n",
       "\n",
       "                                                    Name     Sex   Age  SibSp  \\\n",
       "1 0                              Braund, Mr. Owen Harris    male  22.0      1   \n",
       "  1    Cumings, Mrs. John Bradley (Florence Briggs Th...  female  38.0      1   \n",
       "  2                               Heikkinen, Miss. Laina  female  26.0      0   \n",
       "  3         Futrelle, Mrs. Jacques Heath (Lily May Peel)  female  35.0      1   \n",
       "  4                             Allen, Mr. William Henry    male  35.0      0   \n",
       "...                                                  ...     ...   ...    ...   \n",
       "2 413                                 Spector, Mr. Woolf    male   NaN      0   \n",
       "  414                       Oliva y Ocana, Dona. Fermina  female  39.0      0   \n",
       "  415                       Saether, Mr. Simon Sivertsen    male  38.5      0   \n",
       "  416                                Ware, Mr. Frederick    male   NaN      0   \n",
       "  417                           Peter, Master. Michael J    male   NaN      1   \n",
       "\n",
       "       Parch      Fare Embarked  \n",
       "1 0        0    7.2500        S  \n",
       "  1        0   71.2833        C  \n",
       "  2        0    7.9250        S  \n",
       "  3        0   53.1000        S  \n",
       "  4        0    8.0500        S  \n",
       "...      ...       ...      ...  \n",
       "2 413      0    8.0500        S  \n",
       "  414      0  108.9000        C  \n",
       "  415      0    7.2500        S  \n",
       "  416      0    8.0500        S  \n",
       "  417      1   22.3583        C  \n",
       "\n",
       "[1309 rows x 10 columns]"
      ]
     },
     "execution_count": 18,
     "metadata": {},
     "output_type": "execute_result"
    }
   ],
   "source": [
    "train_test = train_test.drop('Cabin', axis=1)\n",
    "train_test = train_test.drop('Ticket', axis=1)\n",
    "train_test"
   ]
  },
  {
   "cell_type": "markdown",
   "metadata": {},
   "source": [
    "Aqui irei fazer um feature engineering (construir um atributo), para que possa melhorar precisão quando eu for preencher as idades.\n",
    "\n",
    "Como eu irei separar os títulos dos nomes, eu terei a idade mediana de cada tipo de pessoa."
   ]
  },
  {
   "cell_type": "code",
   "execution_count": 19,
   "metadata": {},
   "outputs": [
    {
     "data": {
      "text/plain": [
       "1  0          Mr\n",
       "   1         Mrs\n",
       "   2        Miss\n",
       "   3         Mrs\n",
       "   4          Mr\n",
       "           ...  \n",
       "2  413        Mr\n",
       "   414      Dona\n",
       "   415        Mr\n",
       "   416        Mr\n",
       "   417    Master\n",
       "Name: Title, Length: 1309, dtype: object"
      ]
     },
     "execution_count": 19,
     "metadata": {},
     "output_type": "execute_result"
    }
   ],
   "source": [
    "train_test['Title'] = train_test['Name'].str.split(', ', expand=True)[1].str.split('.', expand=True)[0]\n",
    "train_test['Title']"
   ]
  },
  {
   "cell_type": "markdown",
   "metadata": {
    "scrolled": false
   },
   "source": [
    "Muitos títulos tem uma pessoa ou poucas e por isso irei substituir por algo mais abrangente."
   ]
  },
  {
   "cell_type": "code",
   "execution_count": 20,
   "metadata": {},
   "outputs": [],
   "source": [
    "train_test['Title'] = train_test['Title'].replace(['Dr', 'Rev', 'Major', 'Mlle', 'Col', 'Ms', 'Sir', 'Don', \n",
    "                                                   'Lady', 'Capt', 'the Countess', 'Jonkheer', 'Mme', 'Dona'],\n",
    "                                                  'Dr/Military/Noble/Religious')"
   ]
  },
  {
   "cell_type": "code",
   "execution_count": 21,
   "metadata": {},
   "outputs": [
    {
     "data": {
      "text/plain": [
       "Mr                             757\n",
       "Miss                           260\n",
       "Mrs                            197\n",
       "Master                          61\n",
       "Dr/Military/Noble/Religious     34\n",
       "Name: Title, dtype: int64"
      ]
     },
     "execution_count": 21,
     "metadata": {},
     "output_type": "execute_result"
    }
   ],
   "source": [
    "train_test['Title'].value_counts()"
   ]
  },
  {
   "cell_type": "markdown",
   "metadata": {},
   "source": [
    "Pode ver que mulheres e homens tem títulos diferente e tem uma mulher, com titulo de Dr/Military/Noble/Religious e na 3ª classe com NaN, isso é por que o provavelmente é a única e ela não tem idade, então não se tem como conseguir a mediana."
   ]
  },
  {
   "cell_type": "code",
   "execution_count": 22,
   "metadata": {},
   "outputs": [
    {
     "data": {
      "text/plain": [
       "Sex     Title                        Pclass\n",
       "female  Dr/Military/Noble/Religious  1         33.0\n",
       "                                     2         28.0\n",
       "                                     3          NaN\n",
       "        Miss                         1         30.0\n",
       "                                     2         20.0\n",
       "                                     3         18.0\n",
       "        Mrs                          1         45.0\n",
       "                                     2         30.5\n",
       "                                     3         31.0\n",
       "male    Dr/Military/Noble/Religious  1         49.5\n",
       "                                     2         41.5\n",
       "        Master                       1          6.0\n",
       "                                     2          2.0\n",
       "                                     3          6.0\n",
       "        Mr                           1         41.5\n",
       "                                     2         30.0\n",
       "                                     3         26.0\n",
       "Name: Age, dtype: float64"
      ]
     },
     "execution_count": 22,
     "metadata": {},
     "output_type": "execute_result"
    }
   ],
   "source": [
    "idade_mediana = train_test.groupby(['Sex', 'Title', 'Pclass'])['Age']\n",
    "idade_mediana.median()"
   ]
  },
  {
   "cell_type": "markdown",
   "metadata": {},
   "source": [
    "Preenchendo as idades faltantes."
   ]
  },
  {
   "cell_type": "code",
   "execution_count": 23,
   "metadata": {},
   "outputs": [],
   "source": [
    "train_test['Age'] = idade_mediana.apply(lambda x: x.fillna(x.median()))"
   ]
  },
  {
   "cell_type": "markdown",
   "metadata": {},
   "source": [
    "Preenchendo a pessoa que ficaram sem idade com a mediana da idade da 2ª classe."
   ]
  },
  {
   "cell_type": "code",
   "execution_count": 24,
   "metadata": {},
   "outputs": [],
   "source": [
    "train_test['Age'] = train_test['Age'].fillna(28.0)"
   ]
  },
  {
   "cell_type": "markdown",
   "metadata": {},
   "source": [
    "Preenchendo o Embarked com o valor que é a maioria dos valores."
   ]
  },
  {
   "cell_type": "code",
   "execution_count": 25,
   "metadata": {},
   "outputs": [],
   "source": [
    "train_test['Embarked'] = train_test['Embarked'].fillna(train['Embarked'].value_counts().index[0])"
   ]
  },
  {
   "cell_type": "markdown",
   "metadata": {},
   "source": [
    "Prenchendo o valor de Fare que esta faltando, preenchi de acordo com o lugar que a pessoa embarcou e a classe."
   ]
  },
  {
   "cell_type": "code",
   "execution_count": 26,
   "metadata": {},
   "outputs": [],
   "source": [
    "fare_media = train_test.groupby(['Embarked', 'Pclass'])['Fare']"
   ]
  },
  {
   "cell_type": "code",
   "execution_count": 27,
   "metadata": {},
   "outputs": [],
   "source": [
    "train_test['Fare'] = fare_media.apply(lambda x: x.fillna(x.mean()))"
   ]
  },
  {
   "cell_type": "markdown",
   "metadata": {},
   "source": [
    "## Feature Engineering\n",
    "\n",
    "Esse atributo criei com a ideia de que famílias menores podem ter mais chance de se organizar e sobreviver ou famílias menores podem ter facilidade para se salvar."
   ]
  },
  {
   "cell_type": "code",
   "execution_count": 28,
   "metadata": {},
   "outputs": [],
   "source": [
    "train_test['Family_size'] = train_test['SibSp'] + train_test['Parch'] + 1"
   ]
  },
  {
   "cell_type": "code",
   "execution_count": 29,
   "metadata": {},
   "outputs": [
    {
     "data": {
      "image/png": "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\n",
      "text/plain": [
       "<Figure size 432x288 with 1 Axes>"
      ]
     },
     "metadata": {},
     "output_type": "display_data"
    }
   ],
   "source": [
    "ax = sns.countplot(train_test['Family_size'])\n",
    "\n",
    "ax.set_xlabel('Tamanho da Familia', fontsize=14)\n",
    "ax.set_ylabel('Pessoas', fontsize=14)\n",
    "ax.set_xticklabels([1, 2, 3, 4, 5, 6, 7, 8, 11], fontsize=12)\n",
    "ax.set_yticklabels(ax.get_yticks(), fontsize=12)\n",
    "ax=ax"
   ]
  },
  {
   "cell_type": "markdown",
   "metadata": {},
   "source": [
    "Aqui apenas coloquei as famílias em categorias. Como disse antes com esses dois atributos podemos ver que a maioria das pessoas aparentemente estavam sozinhas, pode ser por causa dos empregados que trabalhavam no navio."
   ]
  },
  {
   "cell_type": "code",
   "execution_count": 30,
   "metadata": {},
   "outputs": [],
   "source": [
    "train_test['Family_type'] = ['Solo' if x==1 else 'Small' if x<4 else 'Medium' if x<6 else 'Large' for x in train_test['Family_size']]"
   ]
  },
  {
   "cell_type": "code",
   "execution_count": 31,
   "metadata": {},
   "outputs": [
    {
     "data": {
      "image/png": "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\n",
      "text/plain": [
       "<Figure size 432x288 with 1 Axes>"
      ]
     },
     "metadata": {},
     "output_type": "display_data"
    }
   ],
   "source": [
    "ax = sns.countplot(train_test['Family_type'])\n",
    "\n",
    "ax.set_xlabel('Tamanho da Familia', fontsize=14)\n",
    "ax.set_ylabel('Pessoas', fontsize=14)\n",
    "ax.set_xticklabels(['Small', 'Solo', 'Medium', 'Large'], fontsize=12)\n",
    "ax.set_yticklabels(ax.get_yticks(), fontsize=12)\n",
    "ax=ax"
   ]
  },
  {
   "cell_type": "markdown",
   "metadata": {},
   "source": [
    "Apenas separando as idades em categoria, com a ideia de que crianças tem mais chance de se salvarem por serem prioridade, e idosos terem mais dificuldades para se salvarem."
   ]
  },
  {
   "cell_type": "code",
   "execution_count": 32,
   "metadata": {},
   "outputs": [],
   "source": [
    "train_test['Age_type'] = ['Kid' if x>=0 and x<13\n",
    "                          else 'Teen' if x>=13 and x<18\n",
    "                          else 'Young' if x>=18 and x<30\n",
    "                          else 'Adult' if x>=30 and x<60 \n",
    "                          else 'Elder' for x in train_test['Age']]"
   ]
  },
  {
   "cell_type": "code",
   "execution_count": 33,
   "metadata": {},
   "outputs": [
    {
     "data": {
      "image/png": "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\n",
      "text/plain": [
       "<Figure size 432x288 with 1 Axes>"
      ]
     },
     "metadata": {},
     "output_type": "display_data"
    }
   ],
   "source": [
    "ax = sns.countplot(train_test['Age_type'])\n",
    "\n",
    "ax.set_xlabel('Tamanho da Familia', fontsize=14)\n",
    "ax.set_ylabel('Pessoas', fontsize=14)\n",
    "ax.set_xticklabels(['Young', 'Adult', 'Kid', 'Teen', 'Elder'], fontsize=12)\n",
    "ax.set_yticklabels(ax.get_yticks(), fontsize=12)\n",
    "ax=ax"
   ]
  },
  {
   "cell_type": "markdown",
   "metadata": {},
   "source": [
    "E assim fica o dataset que será usado para treinar o modelo."
   ]
  },
  {
   "cell_type": "code",
   "execution_count": 34,
   "metadata": {},
   "outputs": [
    {
     "data": {
      "text/html": [
       "<div>\n",
       "<style scoped>\n",
       "    .dataframe tbody tr th:only-of-type {\n",
       "        vertical-align: middle;\n",
       "    }\n",
       "\n",
       "    .dataframe tbody tr th {\n",
       "        vertical-align: top;\n",
       "    }\n",
       "\n",
       "    .dataframe thead th {\n",
       "        text-align: right;\n",
       "    }\n",
       "</style>\n",
       "<table border=\"1\" class=\"dataframe\">\n",
       "  <thead>\n",
       "    <tr style=\"text-align: right;\">\n",
       "      <th></th>\n",
       "      <th></th>\n",
       "      <th>PassengerId</th>\n",
       "      <th>Survived</th>\n",
       "      <th>Pclass</th>\n",
       "      <th>Name</th>\n",
       "      <th>Sex</th>\n",
       "      <th>Age</th>\n",
       "      <th>SibSp</th>\n",
       "      <th>Parch</th>\n",
       "      <th>Fare</th>\n",
       "      <th>Embarked</th>\n",
       "      <th>Title</th>\n",
       "      <th>Family_size</th>\n",
       "      <th>Family_type</th>\n",
       "      <th>Age_type</th>\n",
       "    </tr>\n",
       "  </thead>\n",
       "  <tbody>\n",
       "    <tr>\n",
       "      <th rowspan=\"5\" valign=\"top\">1</th>\n",
       "      <th>0</th>\n",
       "      <td>1</td>\n",
       "      <td>0.0</td>\n",
       "      <td>3</td>\n",
       "      <td>Braund, Mr. Owen Harris</td>\n",
       "      <td>male</td>\n",
       "      <td>22.0</td>\n",
       "      <td>1</td>\n",
       "      <td>0</td>\n",
       "      <td>7.2500</td>\n",
       "      <td>S</td>\n",
       "      <td>Mr</td>\n",
       "      <td>2</td>\n",
       "      <td>Small</td>\n",
       "      <td>Young</td>\n",
       "    </tr>\n",
       "    <tr>\n",
       "      <th>1</th>\n",
       "      <td>2</td>\n",
       "      <td>1.0</td>\n",
       "      <td>1</td>\n",
       "      <td>Cumings, Mrs. John Bradley (Florence Briggs Th...</td>\n",
       "      <td>female</td>\n",
       "      <td>38.0</td>\n",
       "      <td>1</td>\n",
       "      <td>0</td>\n",
       "      <td>71.2833</td>\n",
       "      <td>C</td>\n",
       "      <td>Mrs</td>\n",
       "      <td>2</td>\n",
       "      <td>Small</td>\n",
       "      <td>Adult</td>\n",
       "    </tr>\n",
       "    <tr>\n",
       "      <th>2</th>\n",
       "      <td>3</td>\n",
       "      <td>1.0</td>\n",
       "      <td>3</td>\n",
       "      <td>Heikkinen, Miss. Laina</td>\n",
       "      <td>female</td>\n",
       "      <td>26.0</td>\n",
       "      <td>0</td>\n",
       "      <td>0</td>\n",
       "      <td>7.9250</td>\n",
       "      <td>S</td>\n",
       "      <td>Miss</td>\n",
       "      <td>1</td>\n",
       "      <td>Solo</td>\n",
       "      <td>Young</td>\n",
       "    </tr>\n",
       "    <tr>\n",
       "      <th>3</th>\n",
       "      <td>4</td>\n",
       "      <td>1.0</td>\n",
       "      <td>1</td>\n",
       "      <td>Futrelle, Mrs. Jacques Heath (Lily May Peel)</td>\n",
       "      <td>female</td>\n",
       "      <td>35.0</td>\n",
       "      <td>1</td>\n",
       "      <td>0</td>\n",
       "      <td>53.1000</td>\n",
       "      <td>S</td>\n",
       "      <td>Mrs</td>\n",
       "      <td>2</td>\n",
       "      <td>Small</td>\n",
       "      <td>Adult</td>\n",
       "    </tr>\n",
       "    <tr>\n",
       "      <th>4</th>\n",
       "      <td>5</td>\n",
       "      <td>0.0</td>\n",
       "      <td>3</td>\n",
       "      <td>Allen, Mr. William Henry</td>\n",
       "      <td>male</td>\n",
       "      <td>35.0</td>\n",
       "      <td>0</td>\n",
       "      <td>0</td>\n",
       "      <td>8.0500</td>\n",
       "      <td>S</td>\n",
       "      <td>Mr</td>\n",
       "      <td>1</td>\n",
       "      <td>Solo</td>\n",
       "      <td>Adult</td>\n",
       "    </tr>\n",
       "  </tbody>\n",
       "</table>\n",
       "</div>"
      ],
      "text/plain": [
       "     PassengerId  Survived  Pclass  \\\n",
       "1 0            1       0.0       3   \n",
       "  1            2       1.0       1   \n",
       "  2            3       1.0       3   \n",
       "  3            4       1.0       1   \n",
       "  4            5       0.0       3   \n",
       "\n",
       "                                                  Name     Sex   Age  SibSp  \\\n",
       "1 0                            Braund, Mr. Owen Harris    male  22.0      1   \n",
       "  1  Cumings, Mrs. John Bradley (Florence Briggs Th...  female  38.0      1   \n",
       "  2                             Heikkinen, Miss. Laina  female  26.0      0   \n",
       "  3       Futrelle, Mrs. Jacques Heath (Lily May Peel)  female  35.0      1   \n",
       "  4                           Allen, Mr. William Henry    male  35.0      0   \n",
       "\n",
       "     Parch     Fare Embarked Title  Family_size Family_type Age_type  \n",
       "1 0      0   7.2500        S    Mr            2       Small    Young  \n",
       "  1      0  71.2833        C   Mrs            2       Small    Adult  \n",
       "  2      0   7.9250        S  Miss            1        Solo    Young  \n",
       "  3      0  53.1000        S   Mrs            2       Small    Adult  \n",
       "  4      0   8.0500        S    Mr            1        Solo    Adult  "
      ]
     },
     "execution_count": 34,
     "metadata": {},
     "output_type": "execute_result"
    }
   ],
   "source": [
    "train_test.head()"
   ]
  },
  {
   "cell_type": "markdown",
   "metadata": {},
   "source": [
    "Separando de volta o treino e test."
   ]
  },
  {
   "cell_type": "code",
   "execution_count": 35,
   "metadata": {},
   "outputs": [
    {
     "name": "stderr",
     "output_type": "stream",
     "text": [
      "C:\\Users\\T-Gamer\\Anaconda3\\lib\\site-packages\\ipykernel_launcher.py:4: SettingWithCopyWarning: \n",
      "A value is trying to be set on a copy of a slice from a DataFrame.\n",
      "Try using .loc[row_indexer,col_indexer] = value instead\n",
      "\n",
      "See the caveats in the documentation: https://pandas.pydata.org/pandas-docs/stable/user_guide/indexing.html#returning-a-view-versus-a-copy\n",
      "  after removing the cwd from sys.path.\n"
     ]
    }
   ],
   "source": [
    "train, test = train_test.xs(1), train_test.xs(2)\n",
    "\n",
    "train.to_csv('data/train_clean.csv')\n",
    "train['Survived'] = train['Survived'].astype('int64')\n",
    "\n",
    "test = test.drop('Survived', axis=1)\n",
    "test.to_csv('data/test_clean.csv')"
   ]
  },
  {
   "cell_type": "markdown",
   "metadata": {},
   "source": [
    "Algumas coisas que posso ver agora que os dados foram separados é que podemos confirmar que 57% das crianças sobreviveram como esperado e apenas 27% dos idosos sobreviveram"
   ]
  },
  {
   "cell_type": "code",
   "execution_count": 36,
   "metadata": {},
   "outputs": [
    {
     "data": {
      "text/plain": [
       "Age_type\n",
       "Adult    0.423295\n",
       "Elder    0.269231\n",
       "Kid      0.575342\n",
       "Teen     0.477273\n",
       "Young    0.310606\n",
       "Name: Survived, dtype: float64"
      ]
     },
     "execution_count": 36,
     "metadata": {},
     "output_type": "execute_result"
    }
   ],
   "source": [
    "train.groupby('Age_type')['Survived'].mean()"
   ]
  },
  {
   "cell_type": "markdown",
   "metadata": {},
   "source": [
    "E que pessoas de famílias pequenas e médias tinham muito mais chance de sobreviver do que pessoas que famílias grandes"
   ]
  },
  {
   "cell_type": "code",
   "execution_count": 37,
   "metadata": {},
   "outputs": [
    {
     "data": {
      "text/plain": [
       "Family_type\n",
       "Large     0.148936\n",
       "Medium    0.545455\n",
       "Small     0.562738\n",
       "Solo      0.303538\n",
       "Name: Survived, dtype: float64"
      ]
     },
     "execution_count": 37,
     "metadata": {},
     "output_type": "execute_result"
    }
   ],
   "source": [
    "train.groupby('Family_type')['Survived'].mean()"
   ]
  },
  {
   "cell_type": "markdown",
   "metadata": {},
   "source": [
    "## Preparando os dados para o modelo"
   ]
  },
  {
   "cell_type": "code",
   "execution_count": 38,
   "metadata": {},
   "outputs": [],
   "source": [
    "X_train = train.drop(['PassengerId', 'Survived', 'Name'], axis=1)\n",
    "y_train = train['Survived']\n",
    "X_test = test.drop(['PassengerId', 'Name'], axis=1)"
   ]
  },
  {
   "cell_type": "markdown",
   "metadata": {},
   "source": [
    "Aqui transformando o atributo gênero para que se torne 0 e 1."
   ]
  },
  {
   "cell_type": "code",
   "execution_count": 39,
   "metadata": {},
   "outputs": [],
   "source": [
    "encoder = LabelEncoder()\n",
    "X_train['Sex'] = encoder.fit_transform(train['Sex'])\n",
    "X_test['Sex'] = encoder.fit_transform(test['Sex'])"
   ]
  },
  {
   "cell_type": "markdown",
   "metadata": {},
   "source": [
    "E aqui separando os dados dos atributos categóricos para que se tornem 0 ou 1."
   ]
  },
  {
   "cell_type": "code",
   "execution_count": 40,
   "metadata": {},
   "outputs": [],
   "source": [
    "X_train = pd.get_dummies(X_train, columns=['Embarked', 'Title', 'Family_type', 'Age_type'])\n",
    "X_test = pd.get_dummies(X_test, columns=['Embarked', 'Title', 'Family_type', 'Age_type'])"
   ]
  },
  {
   "cell_type": "markdown",
   "metadata": {},
   "source": [
    "## Modelos\n",
    "\n",
    "Usarei algoritmos de árvore de decisão, muito bom para o problema de classificação, usarei também o GridSearchCV para escolher o melhor modelo de acordo com as opções de parâmetros que coloquei, além do StratifiedKFold para fazer a validação cruzada, ele separa os dados em 5 partes e faz testes com elas."
   ]
  },
  {
   "cell_type": "markdown",
   "metadata": {},
   "source": [
    "### Random Forest"
   ]
  },
  {
   "cell_type": "code",
   "execution_count": 41,
   "metadata": {},
   "outputs": [
    {
     "name": "stdout",
     "output_type": "stream",
     "text": [
      "Fitting 5 folds for each of 324 candidates, totalling 1620 fits\n"
     ]
    },
    {
     "name": "stderr",
     "output_type": "stream",
     "text": [
      "[Parallel(n_jobs=-1)]: Using backend LokyBackend with 12 concurrent workers.\n",
      "[Parallel(n_jobs=-1)]: Done  26 tasks      | elapsed:    4.3s\n",
      "[Parallel(n_jobs=-1)]: Done 176 tasks      | elapsed:   13.6s\n",
      "[Parallel(n_jobs=-1)]: Done 426 tasks      | elapsed:   29.5s\n",
      "[Parallel(n_jobs=-1)]: Done 776 tasks      | elapsed:   51.4s\n",
      "[Parallel(n_jobs=-1)]: Done 1226 tasks      | elapsed:  1.3min\n",
      "[Parallel(n_jobs=-1)]: Done 1620 out of 1620 | elapsed:  1.8min finished\n"
     ]
    },
    {
     "data": {
      "text/plain": [
       "GridSearchCV(cv=StratifiedKFold(n_splits=5, random_state=None, shuffle=False),\n",
       "             error_score=nan,\n",
       "             estimator=RandomForestClassifier(bootstrap=True, ccp_alpha=0.0,\n",
       "                                              class_weight=None,\n",
       "                                              criterion='gini', max_depth=None,\n",
       "                                              max_features='auto',\n",
       "                                              max_leaf_nodes=None,\n",
       "                                              max_samples=None,\n",
       "                                              min_impurity_decrease=0.0,\n",
       "                                              min_impurity_split=None,\n",
       "                                              min_samples_leaf=1,\n",
       "                                              min_samples_split=2,...\n",
       "                                              oob_score=False,\n",
       "                                              random_state=None, verbose=0,\n",
       "                                              warm_start=False),\n",
       "             iid='deprecated', n_jobs=-1,\n",
       "             param_grid={'criterion': ['gini', 'entropy'],\n",
       "                         'max_depth': [None, 7, 10],\n",
       "                         'max_features': ['auto', 0.5],\n",
       "                         'min_samples_leaf': [3, 5, 10],\n",
       "                         'min_samples_split': [2, 7, 15],\n",
       "                         'n_estimators': [100, 200, 500]},\n",
       "             pre_dispatch='2*n_jobs', refit=True, return_train_score=False,\n",
       "             scoring='accuracy', verbose=1)"
      ]
     },
     "execution_count": 41,
     "metadata": {},
     "output_type": "execute_result"
    }
   ],
   "source": [
    "SEED = 12321\n",
    "np.random.seed(SEED)\n",
    "\n",
    "parametros = {\n",
    "    'n_estimators': [100, 200, 500],\n",
    "    'criterion': ['gini', 'entropy'],\n",
    "    'max_depth': [None, 7, 10],\n",
    "    'min_samples_split': [2, 7, 15],\n",
    "    'min_samples_leaf': [3, 5, 10],\n",
    "    'max_features': ['auto', 0.5]\n",
    "}\n",
    "\n",
    "busca_rf = GridSearchCV(RandomForestClassifier(), parametros, scoring='accuracy', cv=StratifiedKFold(n_splits=5),\n",
    "                        verbose=1, n_jobs=-1)\n",
    "\n",
    "busca_rf.fit(X_train, y_train)"
   ]
  },
  {
   "cell_type": "markdown",
   "metadata": {},
   "source": [
    "A precisão do melhor modelo"
   ]
  },
  {
   "cell_type": "code",
   "execution_count": 42,
   "metadata": {},
   "outputs": [
    {
     "data": {
      "text/plain": [
       "0.8428661100998054"
      ]
     },
     "execution_count": 42,
     "metadata": {},
     "output_type": "execute_result"
    }
   ],
   "source": [
    "busca_rf.best_score_"
   ]
  },
  {
   "cell_type": "code",
   "execution_count": 43,
   "metadata": {},
   "outputs": [],
   "source": [
    "melhor_rf = busca_rf.best_estimator_"
   ]
  },
  {
   "cell_type": "markdown",
   "metadata": {},
   "source": [
    "### XGBoost"
   ]
  },
  {
   "cell_type": "code",
   "execution_count": 44,
   "metadata": {},
   "outputs": [
    {
     "name": "stdout",
     "output_type": "stream",
     "text": [
      "Fitting 5 folds for each of 144 candidates, totalling 720 fits\n"
     ]
    },
    {
     "name": "stderr",
     "output_type": "stream",
     "text": [
      "[Parallel(n_jobs=-1)]: Using backend LokyBackend with 12 concurrent workers.\n",
      "[Parallel(n_jobs=-1)]: Done  26 tasks      | elapsed:    2.0s\n",
      "[Parallel(n_jobs=-1)]: Done 176 tasks      | elapsed:    8.6s\n",
      "[Parallel(n_jobs=-1)]: Done 426 tasks      | elapsed:   27.4s\n",
      "[Parallel(n_jobs=-1)]: Done 720 out of 720 | elapsed:  1.6min finished\n"
     ]
    },
    {
     "data": {
      "text/plain": [
       "GridSearchCV(cv=StratifiedKFold(n_splits=5, random_state=None, shuffle=False),\n",
       "             error_score=nan,\n",
       "             estimator=XGBClassifier(base_score=None, booster=None,\n",
       "                                     colsample_bylevel=None,\n",
       "                                     colsample_bynode=None,\n",
       "                                     colsample_bytree=None, gamma=None,\n",
       "                                     gpu_id=None, importance_type='gain',\n",
       "                                     interaction_constraints=None,\n",
       "                                     learning_rate=None, max_delta_step=None,\n",
       "                                     max_depth=None, min_child...\n",
       "                                     reg_lambda=None, scale_pos_weight=None,\n",
       "                                     subsample=None, tree_method=None,\n",
       "                                     validate_parameters=None, verbosity=None),\n",
       "             iid='deprecated', n_jobs=-1,\n",
       "             param_grid={'booster': ['gbtree', 'dart'],\n",
       "                         'eta': [0.01, 0.05, 0.1, 0.3], 'max_depth': [3, 6, 9],\n",
       "                         'n_estimators': [100, 200, 500],\n",
       "                         'subsample': [0.5, 1]},\n",
       "             pre_dispatch='2*n_jobs', refit=True, return_train_score=False,\n",
       "             scoring='accuracy', verbose=1)"
      ]
     },
     "execution_count": 44,
     "metadata": {},
     "output_type": "execute_result"
    }
   ],
   "source": [
    "parametros = {\n",
    "    'eta': [0.01, 0.05, 0.1, 0.3],\n",
    "    'booster': ['gbtree', 'dart'],\n",
    "    'max_depth': [3, 6, 9],\n",
    "    'subsample': [0.5, 1],\n",
    "    'n_estimators': [100, 200, 500]\n",
    "}\n",
    "\n",
    "busca_xgb = GridSearchCV(XGBClassifier(), parametros, scoring='accuracy', cv=StratifiedKFold(n_splits=5), verbose=1, n_jobs=-1)\n",
    "busca_xgb.fit(X_train, y_train)"
   ]
  },
  {
   "cell_type": "code",
   "execution_count": 45,
   "metadata": {},
   "outputs": [
    {
     "data": {
      "text/plain": [
       "0.8406126420187056"
      ]
     },
     "execution_count": 45,
     "metadata": {},
     "output_type": "execute_result"
    }
   ],
   "source": [
    "busca_xgb.best_score_"
   ]
  },
  {
   "cell_type": "code",
   "execution_count": 46,
   "metadata": {},
   "outputs": [],
   "source": [
    "melhor_xgb = busca_xgb.best_estimator_"
   ]
  },
  {
   "cell_type": "markdown",
   "metadata": {},
   "source": [
    "## Salvando as resultados\n",
    "\n",
    "Agora é só prever quem sobreviveria e salvar os dados para enviar ao Kaggle."
   ]
  },
  {
   "cell_type": "code",
   "execution_count": 47,
   "metadata": {},
   "outputs": [],
   "source": [
    "submission = pd.DataFrame()\n",
    "submission['PassengerId'] = test['PassengerId']\n",
    "submission['Survived'] = melhor_rf.predict(X_test)\n",
    "\n",
    "submission.to_csv('submission_random_forest_v1.0.csv', index=False)"
   ]
  },
  {
   "cell_type": "code",
   "execution_count": 48,
   "metadata": {},
   "outputs": [],
   "source": [
    "submission = pd.DataFrame()\n",
    "submission['PassengerId'] = test['PassengerId']\n",
    "submission['Survived'] = melhor_xgb.predict(X_test)\n",
    "\n",
    "submission.to_csv('submission_xgboost_v1.0.csv', index=False)"
   ]
  },
  {
   "cell_type": "code",
   "execution_count": 49,
   "metadata": {},
   "outputs": [
    {
     "data": {
      "text/html": [
       "<div>\n",
       "<style scoped>\n",
       "    .dataframe tbody tr th:only-of-type {\n",
       "        vertical-align: middle;\n",
       "    }\n",
       "\n",
       "    .dataframe tbody tr th {\n",
       "        vertical-align: top;\n",
       "    }\n",
       "\n",
       "    .dataframe thead th {\n",
       "        text-align: right;\n",
       "    }\n",
       "</style>\n",
       "<table border=\"1\" class=\"dataframe\">\n",
       "  <thead>\n",
       "    <tr style=\"text-align: right;\">\n",
       "      <th></th>\n",
       "      <th>PassengerId</th>\n",
       "      <th>Survived</th>\n",
       "    </tr>\n",
       "  </thead>\n",
       "  <tbody>\n",
       "    <tr>\n",
       "      <th>0</th>\n",
       "      <td>892</td>\n",
       "      <td>0</td>\n",
       "    </tr>\n",
       "    <tr>\n",
       "      <th>1</th>\n",
       "      <td>893</td>\n",
       "      <td>0</td>\n",
       "    </tr>\n",
       "    <tr>\n",
       "      <th>2</th>\n",
       "      <td>894</td>\n",
       "      <td>0</td>\n",
       "    </tr>\n",
       "    <tr>\n",
       "      <th>3</th>\n",
       "      <td>895</td>\n",
       "      <td>0</td>\n",
       "    </tr>\n",
       "    <tr>\n",
       "      <th>4</th>\n",
       "      <td>896</td>\n",
       "      <td>1</td>\n",
       "    </tr>\n",
       "    <tr>\n",
       "      <th>...</th>\n",
       "      <td>...</td>\n",
       "      <td>...</td>\n",
       "    </tr>\n",
       "    <tr>\n",
       "      <th>413</th>\n",
       "      <td>1305</td>\n",
       "      <td>0</td>\n",
       "    </tr>\n",
       "    <tr>\n",
       "      <th>414</th>\n",
       "      <td>1306</td>\n",
       "      <td>1</td>\n",
       "    </tr>\n",
       "    <tr>\n",
       "      <th>415</th>\n",
       "      <td>1307</td>\n",
       "      <td>0</td>\n",
       "    </tr>\n",
       "    <tr>\n",
       "      <th>416</th>\n",
       "      <td>1308</td>\n",
       "      <td>0</td>\n",
       "    </tr>\n",
       "    <tr>\n",
       "      <th>417</th>\n",
       "      <td>1309</td>\n",
       "      <td>1</td>\n",
       "    </tr>\n",
       "  </tbody>\n",
       "</table>\n",
       "<p>418 rows × 2 columns</p>\n",
       "</div>"
      ],
      "text/plain": [
       "     PassengerId  Survived\n",
       "0            892         0\n",
       "1            893         0\n",
       "2            894         0\n",
       "3            895         0\n",
       "4            896         1\n",
       "..           ...       ...\n",
       "413         1305         0\n",
       "414         1306         1\n",
       "415         1307         0\n",
       "416         1308         0\n",
       "417         1309         1\n",
       "\n",
       "[418 rows x 2 columns]"
      ]
     },
     "execution_count": 49,
     "metadata": {},
     "output_type": "execute_result"
    }
   ],
   "source": [
    "submission"
   ]
  }
 ],
 "metadata": {
  "kernelspec": {
   "display_name": "Python 3",
   "language": "python",
   "name": "python3"
  },
  "language_info": {
   "codemirror_mode": {
    "name": "ipython",
    "version": 3
   },
   "file_extension": ".py",
   "mimetype": "text/x-python",
   "name": "python",
   "nbconvert_exporter": "python",
   "pygments_lexer": "ipython3",
   "version": "3.7.3"
  }
 },
 "nbformat": 4,
 "nbformat_minor": 4
}
