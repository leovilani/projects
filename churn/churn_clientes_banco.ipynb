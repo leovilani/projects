{
 "cells": [
  {
   "cell_type": "markdown",
   "metadata": {},
   "source": [
    "# Churn de Clientes de um Banco\n",
    "\n",
    "*Churn*, uma expressão que representa taxa de evasão de clientes. Em alguns serviços pode representar o cancelamento de uma assinatura em outros como o nosso caso representa um cliente que fechou sua conta no banco.\n",
    "\n",
    "Manter clientes é tão importante quanto adquirir novos clientes, com isso por meio desse projeto irei analisar o que leva eles a fecharem sua conta no banco e prever quem pode sair. Assim trabalhando para tentar manter esses clientes com ações, promoções e etc.\n",
    "\n",
    "## Ensemble de Modelos\n",
    "\n",
    "O *Ensemble* em Machine Learning, é um método de agrupamento de algoritmos para que se obtenha o melhor desempenho.\n",
    "\n",
    "## Dados\n",
    "\n",
    "Os dados foram retirados do [Kaggle](https://www.kaggle.com) e tem a finalidade de estudo.\n",
    "\n",
    "Segundo sua descrição: \"Esse dataset contém detalhes de clientes de um banco e a variável alvo é binária refletindo qual cliente deixou o banco (fechou sua conta) ou continua como cliente.\"\n",
    "\n",
    "O dataset completo pode ser encontrado neste [link](https://www.kaggle.com/shrutimechlearn/churn-modelling)."
   ]
  },
  {
   "cell_type": "code",
   "execution_count": 1,
   "metadata": {},
   "outputs": [],
   "source": [
    "# Importanto bibliotecas\n",
    "import pandas as pd\n",
    "import numpy as np\n",
    "\n",
    "import matplotlib.pyplot as plt\n",
    "import seaborn as sns\n",
    "\n",
    "from sklearn.model_selection import cross_val_score\n",
    "from sklearn.preprocessing import LabelEncoder\n",
    "from sklearn.metrics import classification_report, confusion_matrix\n",
    "\n",
    "from xgboost import XGBClassifier\n",
    "from sklearn.naive_bayes import GaussianNB\n",
    "from sklearn.svm import SVC\n",
    "from sklearn.neighbors import KNeighborsClassifier\n",
    "from sklearn.ensemble import GradientBoostingClassifier, StackingClassifier\n",
    "\n",
    "# seed global\n",
    "np.random.seed(42)"
   ]
  },
  {
   "cell_type": "code",
   "execution_count": 2,
   "metadata": {
    "scrolled": true
   },
   "outputs": [
    {
     "data": {
      "text/html": [
       "<div>\n",
       "<style scoped>\n",
       "    .dataframe tbody tr th:only-of-type {\n",
       "        vertical-align: middle;\n",
       "    }\n",
       "\n",
       "    .dataframe tbody tr th {\n",
       "        vertical-align: top;\n",
       "    }\n",
       "\n",
       "    .dataframe thead th {\n",
       "        text-align: right;\n",
       "    }\n",
       "</style>\n",
       "<table border=\"1\" class=\"dataframe\">\n",
       "  <thead>\n",
       "    <tr style=\"text-align: right;\">\n",
       "      <th></th>\n",
       "      <th>RowNumber</th>\n",
       "      <th>CustomerId</th>\n",
       "      <th>Surname</th>\n",
       "      <th>CreditScore</th>\n",
       "      <th>Geography</th>\n",
       "      <th>Gender</th>\n",
       "      <th>Age</th>\n",
       "      <th>Tenure</th>\n",
       "      <th>Balance</th>\n",
       "      <th>NumOfProducts</th>\n",
       "      <th>HasCrCard</th>\n",
       "      <th>IsActiveMember</th>\n",
       "      <th>EstimatedSalary</th>\n",
       "      <th>Exited</th>\n",
       "    </tr>\n",
       "  </thead>\n",
       "  <tbody>\n",
       "    <tr>\n",
       "      <th>0</th>\n",
       "      <td>1</td>\n",
       "      <td>15634602</td>\n",
       "      <td>Hargrave</td>\n",
       "      <td>619</td>\n",
       "      <td>France</td>\n",
       "      <td>Female</td>\n",
       "      <td>42</td>\n",
       "      <td>2</td>\n",
       "      <td>0.00</td>\n",
       "      <td>1</td>\n",
       "      <td>1</td>\n",
       "      <td>1</td>\n",
       "      <td>101348.88</td>\n",
       "      <td>1</td>\n",
       "    </tr>\n",
       "    <tr>\n",
       "      <th>1</th>\n",
       "      <td>2</td>\n",
       "      <td>15647311</td>\n",
       "      <td>Hill</td>\n",
       "      <td>608</td>\n",
       "      <td>Spain</td>\n",
       "      <td>Female</td>\n",
       "      <td>41</td>\n",
       "      <td>1</td>\n",
       "      <td>83807.86</td>\n",
       "      <td>1</td>\n",
       "      <td>0</td>\n",
       "      <td>1</td>\n",
       "      <td>112542.58</td>\n",
       "      <td>0</td>\n",
       "    </tr>\n",
       "    <tr>\n",
       "      <th>2</th>\n",
       "      <td>3</td>\n",
       "      <td>15619304</td>\n",
       "      <td>Onio</td>\n",
       "      <td>502</td>\n",
       "      <td>France</td>\n",
       "      <td>Female</td>\n",
       "      <td>42</td>\n",
       "      <td>8</td>\n",
       "      <td>159660.80</td>\n",
       "      <td>3</td>\n",
       "      <td>1</td>\n",
       "      <td>0</td>\n",
       "      <td>113931.57</td>\n",
       "      <td>1</td>\n",
       "    </tr>\n",
       "    <tr>\n",
       "      <th>3</th>\n",
       "      <td>4</td>\n",
       "      <td>15701354</td>\n",
       "      <td>Boni</td>\n",
       "      <td>699</td>\n",
       "      <td>France</td>\n",
       "      <td>Female</td>\n",
       "      <td>39</td>\n",
       "      <td>1</td>\n",
       "      <td>0.00</td>\n",
       "      <td>2</td>\n",
       "      <td>0</td>\n",
       "      <td>0</td>\n",
       "      <td>93826.63</td>\n",
       "      <td>0</td>\n",
       "    </tr>\n",
       "    <tr>\n",
       "      <th>4</th>\n",
       "      <td>5</td>\n",
       "      <td>15737888</td>\n",
       "      <td>Mitchell</td>\n",
       "      <td>850</td>\n",
       "      <td>Spain</td>\n",
       "      <td>Female</td>\n",
       "      <td>43</td>\n",
       "      <td>2</td>\n",
       "      <td>125510.82</td>\n",
       "      <td>1</td>\n",
       "      <td>1</td>\n",
       "      <td>1</td>\n",
       "      <td>79084.10</td>\n",
       "      <td>0</td>\n",
       "    </tr>\n",
       "  </tbody>\n",
       "</table>\n",
       "</div>"
      ],
      "text/plain": [
       "   RowNumber  CustomerId   Surname  CreditScore Geography  Gender  Age  \\\n",
       "0          1    15634602  Hargrave          619    France  Female   42   \n",
       "1          2    15647311      Hill          608     Spain  Female   41   \n",
       "2          3    15619304      Onio          502    France  Female   42   \n",
       "3          4    15701354      Boni          699    France  Female   39   \n",
       "4          5    15737888  Mitchell          850     Spain  Female   43   \n",
       "\n",
       "   Tenure    Balance  NumOfProducts  HasCrCard  IsActiveMember  \\\n",
       "0       2       0.00              1          1               1   \n",
       "1       1   83807.86              1          0               1   \n",
       "2       8  159660.80              3          1               0   \n",
       "3       1       0.00              2          0               0   \n",
       "4       2  125510.82              1          1               1   \n",
       "\n",
       "   EstimatedSalary  Exited  \n",
       "0        101348.88       1  \n",
       "1        112542.58       0  \n",
       "2        113931.57       1  \n",
       "3         93826.63       0  \n",
       "4         79084.10       0  "
      ]
     },
     "execution_count": 2,
     "metadata": {},
     "output_type": "execute_result"
    }
   ],
   "source": [
    "# importando o dataset\n",
    "churn = pd.read_csv('Churn_Modelling.csv')\n",
    "\n",
    "# primeiras linhas\n",
    "churn.head()"
   ]
  },
  {
   "cell_type": "markdown",
   "metadata": {},
   "source": [
    "- **RowNumber:** Número das linhas de 1 até 10000;\n",
    "- **CustomerId:** Id único para identificação de clientes;\n",
    "- **Surname:** Ultimo nome do cliente;\n",
    "- **CreditScore:** Score de crédito do cliente;\n",
    "- **Geography:** O país de onde pertence do cliente;\n",
    "- **Gender:** Masculino our feminino;\n",
    "- **Age:** Idade do cliente;\n",
    "- **Tenure:** Número de anos que o cliente está com o banco;\n",
    "- **Balance:** Balanço bancário do cliente;\n",
    "- **NumOfProducts:** Número de produtos do banco que o cliente está utilizando;\n",
    "- **HasCrCard:** Classificação binária que mostra se o cliente tem um cartão de crédito com o banco ou não;\n",
    "- **IsActiveMember:** Classificação binária que mostra se o cliente é um membra ativo do banvo ou não;\n",
    "- **EstimatedSalary:** Sáralio estimado do cliente em Dolares;\n",
    "- **Exited:** Classificação binária, 1 se o cliente fechou a conta com o banco e 0 se o cliente contínua;"
   ]
  },
  {
   "cell_type": "markdown",
   "metadata": {},
   "source": [
    "# Análise Exploratória\n",
    "\n",
    "O Dataset tem exatamente 10000 linhas e 14 colunas além de ser dividido em 80% dos clientes com conta aberta no banco e 20% fecharam sua conta. A divisão não é igual mas também não é tão baixa ao ponto de atrapalhar os modelos."
   ]
  },
  {
   "cell_type": "code",
   "execution_count": 3,
   "metadata": {},
   "outputs": [
    {
     "data": {
      "text/plain": [
       "(10000, 14)"
      ]
     },
     "execution_count": 3,
     "metadata": {},
     "output_type": "execute_result"
    }
   ],
   "source": [
    "# tamanho do dataset\n",
    "churn.shape"
   ]
  },
  {
   "cell_type": "code",
   "execution_count": 4,
   "metadata": {
    "scrolled": true
   },
   "outputs": [
    {
     "data": {
      "text/plain": [
       "0    0.7963\n",
       "1    0.2037\n",
       "Name: Exited, dtype: float64"
      ]
     },
     "execution_count": 4,
     "metadata": {},
     "output_type": "execute_result"
    }
   ],
   "source": [
    "# porcentagem variavel alvo\n",
    "churn.Exited.value_counts(normalize=True)"
   ]
  },
  {
   "cell_type": "markdown",
   "metadata": {},
   "source": [
    "Todas as colunas no formato certo."
   ]
  },
  {
   "cell_type": "code",
   "execution_count": 5,
   "metadata": {
    "scrolled": false
   },
   "outputs": [
    {
     "name": "stdout",
     "output_type": "stream",
     "text": [
      "<class 'pandas.core.frame.DataFrame'>\n",
      "RangeIndex: 10000 entries, 0 to 9999\n",
      "Data columns (total 14 columns):\n",
      " #   Column           Non-Null Count  Dtype  \n",
      "---  ------           --------------  -----  \n",
      " 0   RowNumber        10000 non-null  int64  \n",
      " 1   CustomerId       10000 non-null  int64  \n",
      " 2   Surname          10000 non-null  object \n",
      " 3   CreditScore      10000 non-null  int64  \n",
      " 4   Geography        10000 non-null  object \n",
      " 5   Gender           10000 non-null  object \n",
      " 6   Age              10000 non-null  int64  \n",
      " 7   Tenure           10000 non-null  int64  \n",
      " 8   Balance          10000 non-null  float64\n",
      " 9   NumOfProducts    10000 non-null  int64  \n",
      " 10  HasCrCard        10000 non-null  int64  \n",
      " 11  IsActiveMember   10000 non-null  int64  \n",
      " 12  EstimatedSalary  10000 non-null  float64\n",
      " 13  Exited           10000 non-null  int64  \n",
      "dtypes: float64(2), int64(9), object(3)\n",
      "memory usage: 1.1+ MB\n"
     ]
    }
   ],
   "source": [
    "# informações dos dados\n",
    "churn.info()"
   ]
  },
  {
   "cell_type": "markdown",
   "metadata": {},
   "source": [
    "Nenhum valor faltante."
   ]
  },
  {
   "cell_type": "code",
   "execution_count": 6,
   "metadata": {
    "scrolled": true
   },
   "outputs": [
    {
     "data": {
      "text/plain": [
       "RowNumber          0\n",
       "CustomerId         0\n",
       "Surname            0\n",
       "CreditScore        0\n",
       "Geography          0\n",
       "Gender             0\n",
       "Age                0\n",
       "Tenure             0\n",
       "Balance            0\n",
       "NumOfProducts      0\n",
       "HasCrCard          0\n",
       "IsActiveMember     0\n",
       "EstimatedSalary    0\n",
       "Exited             0\n",
       "dtype: int64"
      ]
     },
     "execution_count": 6,
     "metadata": {},
     "output_type": "execute_result"
    }
   ],
   "source": [
    "# valores faltantes\n",
    "churn.isnull().sum()"
   ]
  },
  {
   "cell_type": "markdown",
   "metadata": {},
   "source": [
    "No resumo estátistico, eu separei apenas as variáveis númericas. \n",
    "\n",
    "É possivel perceber algumas coisas, como:\n",
    "- o *Score* médio é de 650, enquanto o minimo é 350 e o máximo é 850;\n",
    "- A média de idade é de 38 anos, e vai de 18 a 92 anos;\n",
    "- *Tenure* (anos que o cliente está com o banco), tem média de 5 anos mas tem um máximo de 10;\n",
    "- *EstimatedSalary* (salário estimado), tem média de 10000;"
   ]
  },
  {
   "cell_type": "code",
   "execution_count": 7,
   "metadata": {
    "scrolled": false
   },
   "outputs": [
    {
     "data": {
      "text/html": [
       "<div>\n",
       "<style scoped>\n",
       "    .dataframe tbody tr th:only-of-type {\n",
       "        vertical-align: middle;\n",
       "    }\n",
       "\n",
       "    .dataframe tbody tr th {\n",
       "        vertical-align: top;\n",
       "    }\n",
       "\n",
       "    .dataframe thead th {\n",
       "        text-align: right;\n",
       "    }\n",
       "</style>\n",
       "<table border=\"1\" class=\"dataframe\">\n",
       "  <thead>\n",
       "    <tr style=\"text-align: right;\">\n",
       "      <th></th>\n",
       "      <th>CreditScore</th>\n",
       "      <th>Age</th>\n",
       "      <th>Tenure</th>\n",
       "      <th>Balance</th>\n",
       "      <th>NumOfProducts</th>\n",
       "      <th>EstimatedSalary</th>\n",
       "    </tr>\n",
       "  </thead>\n",
       "  <tbody>\n",
       "    <tr>\n",
       "      <th>count</th>\n",
       "      <td>10000.000000</td>\n",
       "      <td>10000.000000</td>\n",
       "      <td>10000.000000</td>\n",
       "      <td>10000.000000</td>\n",
       "      <td>10000.000000</td>\n",
       "      <td>10000.000000</td>\n",
       "    </tr>\n",
       "    <tr>\n",
       "      <th>mean</th>\n",
       "      <td>650.528800</td>\n",
       "      <td>38.921800</td>\n",
       "      <td>5.012800</td>\n",
       "      <td>76485.889288</td>\n",
       "      <td>1.530200</td>\n",
       "      <td>100090.239881</td>\n",
       "    </tr>\n",
       "    <tr>\n",
       "      <th>std</th>\n",
       "      <td>96.653299</td>\n",
       "      <td>10.487806</td>\n",
       "      <td>2.892174</td>\n",
       "      <td>62397.405202</td>\n",
       "      <td>0.581654</td>\n",
       "      <td>57510.492818</td>\n",
       "    </tr>\n",
       "    <tr>\n",
       "      <th>min</th>\n",
       "      <td>350.000000</td>\n",
       "      <td>18.000000</td>\n",
       "      <td>0.000000</td>\n",
       "      <td>0.000000</td>\n",
       "      <td>1.000000</td>\n",
       "      <td>11.580000</td>\n",
       "    </tr>\n",
       "    <tr>\n",
       "      <th>25%</th>\n",
       "      <td>584.000000</td>\n",
       "      <td>32.000000</td>\n",
       "      <td>3.000000</td>\n",
       "      <td>0.000000</td>\n",
       "      <td>1.000000</td>\n",
       "      <td>51002.110000</td>\n",
       "    </tr>\n",
       "    <tr>\n",
       "      <th>50%</th>\n",
       "      <td>652.000000</td>\n",
       "      <td>37.000000</td>\n",
       "      <td>5.000000</td>\n",
       "      <td>97198.540000</td>\n",
       "      <td>1.000000</td>\n",
       "      <td>100193.915000</td>\n",
       "    </tr>\n",
       "    <tr>\n",
       "      <th>75%</th>\n",
       "      <td>718.000000</td>\n",
       "      <td>44.000000</td>\n",
       "      <td>7.000000</td>\n",
       "      <td>127644.240000</td>\n",
       "      <td>2.000000</td>\n",
       "      <td>149388.247500</td>\n",
       "    </tr>\n",
       "    <tr>\n",
       "      <th>max</th>\n",
       "      <td>850.000000</td>\n",
       "      <td>92.000000</td>\n",
       "      <td>10.000000</td>\n",
       "      <td>250898.090000</td>\n",
       "      <td>4.000000</td>\n",
       "      <td>199992.480000</td>\n",
       "    </tr>\n",
       "  </tbody>\n",
       "</table>\n",
       "</div>"
      ],
      "text/plain": [
       "        CreditScore           Age        Tenure        Balance  NumOfProducts  \\\n",
       "count  10000.000000  10000.000000  10000.000000   10000.000000   10000.000000   \n",
       "mean     650.528800     38.921800      5.012800   76485.889288       1.530200   \n",
       "std       96.653299     10.487806      2.892174   62397.405202       0.581654   \n",
       "min      350.000000     18.000000      0.000000       0.000000       1.000000   \n",
       "25%      584.000000     32.000000      3.000000       0.000000       1.000000   \n",
       "50%      652.000000     37.000000      5.000000   97198.540000       1.000000   \n",
       "75%      718.000000     44.000000      7.000000  127644.240000       2.000000   \n",
       "max      850.000000     92.000000     10.000000  250898.090000       4.000000   \n",
       "\n",
       "       EstimatedSalary  \n",
       "count     10000.000000  \n",
       "mean     100090.239881  \n",
       "std       57510.492818  \n",
       "min          11.580000  \n",
       "25%       51002.110000  \n",
       "50%      100193.915000  \n",
       "75%      149388.247500  \n",
       "max      199992.480000  "
      ]
     },
     "execution_count": 7,
     "metadata": {},
     "output_type": "execute_result"
    }
   ],
   "source": [
    "# resumo estátistico\n",
    "churn[['CreditScore', 'Age', 'Tenure', 'Balance', 'NumOfProducts', 'EstimatedSalary']].describe()"
   ]
  },
  {
   "cell_type": "markdown",
   "metadata": {},
   "source": [
    "O número de homens é maior que o de mulheres mas neste dataset não se ve diferença significativa entre os dois em outras colunas como salário, idade ou *Score*."
   ]
  },
  {
   "cell_type": "code",
   "execution_count": 8,
   "metadata": {},
   "outputs": [
    {
     "data": {
      "image/png": "[encoded data removed]",
      "text/plain": [
       "<Figure size 720x432 with 1 Axes>"
      ]
     },
     "metadata": {},
     "output_type": "display_data"
    }
   ],
   "source": [
    "# estilo dos gráficos\n",
    "sns.set_palette('Accent')\n",
    "sns.set_style('dark')\n",
    "\n",
    "# gráfico\n",
    "plt.figure(figsize=(10, 6))\n",
    "ax = sns.countplot(churn.Gender, order=churn.Gender.value_counts().index)\n",
    "ax.set_title('Número de Clientes por Genero', fontsize=18, loc='left');\n",
    "ax.set_xlabel('', fontsize=14)\n",
    "ax.set_ylabel('', fontsize=14)\n",
    "ax.set_xticklabels(['Masculino', 'Feminino'], fontsize=12);\n",
    "ax.set_yticklabels(ax.get_yticks(), fontsize=12);\n",
    "\n",
    "labels = (churn.Gender.value_counts())\n",
    "for i, v in enumerate(labels):\n",
    "    ax.text(i, v-450, str(v), horizontalalignment = 'center', size = 14, color = 'w', fontweight = 'bold')"
   ]
  },
  {
   "cell_type": "code",
   "execution_count": 9,
   "metadata": {
    "scrolled": true
   },
   "outputs": [
    {
     "data": {
      "text/html": [
       "<div>\n",
       "<style scoped>\n",
       "    .dataframe tbody tr th:only-of-type {\n",
       "        vertical-align: middle;\n",
       "    }\n",
       "\n",
       "    .dataframe tbody tr th {\n",
       "        vertical-align: top;\n",
       "    }\n",
       "\n",
       "    .dataframe thead th {\n",
       "        text-align: right;\n",
       "    }\n",
       "</style>\n",
       "<table border=\"1\" class=\"dataframe\">\n",
       "  <thead>\n",
       "    <tr style=\"text-align: right;\">\n",
       "      <th></th>\n",
       "      <th>RowNumber</th>\n",
       "      <th>CustomerId</th>\n",
       "      <th>CreditScore</th>\n",
       "      <th>Age</th>\n",
       "      <th>Tenure</th>\n",
       "      <th>Balance</th>\n",
       "      <th>NumOfProducts</th>\n",
       "      <th>HasCrCard</th>\n",
       "      <th>IsActiveMember</th>\n",
       "      <th>EstimatedSalary</th>\n",
       "      <th>Exited</th>\n",
       "    </tr>\n",
       "    <tr>\n",
       "      <th>Gender</th>\n",
       "      <th></th>\n",
       "      <th></th>\n",
       "      <th></th>\n",
       "      <th></th>\n",
       "      <th></th>\n",
       "      <th></th>\n",
       "      <th></th>\n",
       "      <th></th>\n",
       "      <th></th>\n",
       "      <th></th>\n",
       "      <th></th>\n",
       "    </tr>\n",
       "  </thead>\n",
       "  <tbody>\n",
       "    <tr>\n",
       "      <th>Female</th>\n",
       "      <td>4891</td>\n",
       "      <td>15691483</td>\n",
       "      <td>652</td>\n",
       "      <td>38</td>\n",
       "      <td>5</td>\n",
       "      <td>96147.55</td>\n",
       "      <td>1</td>\n",
       "      <td>1</td>\n",
       "      <td>1</td>\n",
       "      <td>101905.34</td>\n",
       "      <td>0</td>\n",
       "    </tr>\n",
       "    <tr>\n",
       "      <th>Male</th>\n",
       "      <td>5081</td>\n",
       "      <td>15690440</td>\n",
       "      <td>651</td>\n",
       "      <td>37</td>\n",
       "      <td>5</td>\n",
       "      <td>98064.97</td>\n",
       "      <td>1</td>\n",
       "      <td>1</td>\n",
       "      <td>1</td>\n",
       "      <td>98060.51</td>\n",
       "      <td>0</td>\n",
       "    </tr>\n",
       "  </tbody>\n",
       "</table>\n",
       "</div>"
      ],
      "text/plain": [
       "        RowNumber  CustomerId  CreditScore  Age  Tenure   Balance  \\\n",
       "Gender                                                              \n",
       "Female       4891    15691483          652   38       5  96147.55   \n",
       "Male         5081    15690440          651   37       5  98064.97   \n",
       "\n",
       "        NumOfProducts  HasCrCard  IsActiveMember  EstimatedSalary  Exited  \n",
       "Gender                                                                     \n",
       "Female              1          1               1        101905.34       0  \n",
       "Male                1          1               1         98060.51       0  "
      ]
     },
     "execution_count": 9,
     "metadata": {},
     "output_type": "execute_result"
    }
   ],
   "source": [
    "# agrupamento por gênero\n",
    "churn.groupby('Gender').median()"
   ]
  },
  {
   "cell_type": "markdown",
   "metadata": {},
   "source": [
    "Nesse dataset mulheres foram as que mais fecharam as contas no banco."
   ]
  },
  {
   "cell_type": "code",
   "execution_count": 10,
   "metadata": {},
   "outputs": [
    {
     "data": {
      "text/plain": [
       "Gender  Exited\n",
       "Female  0         3404\n",
       "        1         1139\n",
       "Male    0         4559\n",
       "        1          898\n",
       "Name: Exited, dtype: int64"
      ]
     },
     "execution_count": 10,
     "metadata": {},
     "output_type": "execute_result"
    }
   ],
   "source": [
    "# agrupamento por gênero e saída\n",
    "churn.groupby('Gender')['Exited'].value_counts()"
   ]
  },
  {
   "cell_type": "markdown",
   "metadata": {},
   "source": [
    "Os clientes são em sua maioria da França, Alemanha e Espanha tem praticamente o mesmo número de clientes."
   ]
  },
  {
   "cell_type": "code",
   "execution_count": 11,
   "metadata": {
    "scrolled": false
   },
   "outputs": [
    {
     "data": {
      "image/png": "[encoded data removed]",
      "text/plain": [
       "<Figure size 720x432 with 1 Axes>"
      ]
     },
     "metadata": {},
     "output_type": "display_data"
    }
   ],
   "source": [
    "# gráfico\n",
    "plt.figure(figsize=(10, 6))\n",
    "ax = sns.countplot(churn.Geography, order=churn.Geography.value_counts().index)\n",
    "ax.set_title('Número de Clientes por País', fontsize=18, loc='left');\n",
    "ax.set_xlabel('', fontsize=14)\n",
    "ax.set_ylabel('', fontsize=14)\n",
    "ax.set_xticklabels(['França', 'Alemanha', 'Espanha'], fontsize=12);\n",
    "ax.set_yticklabels(ax.get_yticks(), fontsize=12);\n",
    "\n",
    "labels = (churn.Geography.value_counts())\n",
    "for i, v in enumerate(labels):\n",
    "    ax.text(i, v-450, str(v), horizontalalignment = 'center', size = 14, color = 'w', fontweight = 'bold')"
   ]
  },
  {
   "cell_type": "markdown",
   "metadata": {},
   "source": [
    "Análisando pela saída de clientes por país, é possivel notar que clientes alemães tem maior porcentagem de fechamento de contas."
   ]
  },
  {
   "cell_type": "code",
   "execution_count": 12,
   "metadata": {},
   "outputs": [
    {
     "data": {
      "text/plain": [
       "Geography  Exited\n",
       "France     0         0.838452\n",
       "           1         0.161548\n",
       "Germany    0         0.675568\n",
       "           1         0.324432\n",
       "Spain      0         0.833266\n",
       "           1         0.166734\n",
       "Name: Exited, dtype: float64"
      ]
     },
     "execution_count": 12,
     "metadata": {},
     "output_type": "execute_result"
    }
   ],
   "source": [
    "# agrupamento por saída de país\n",
    "churn.groupby('Geography')['Exited'].value_counts(normalize=True)"
   ]
  },
  {
   "cell_type": "code",
   "execution_count": 13,
   "metadata": {},
   "outputs": [],
   "source": [
    "# separando contas fechadas de contas abertas\n",
    "churn_fechada = churn.loc[churn['Exited'] == 1]\n",
    "churn_aberta = churn.loc[churn['Exited'] == 0]"
   ]
  },
  {
   "cell_type": "markdown",
   "metadata": {},
   "source": [
    "Por esse gráfico fica claro que o fato de ter um cartão de crédito ou não, não faz diferença na hora que vão fechar uma conta."
   ]
  },
  {
   "cell_type": "code",
   "execution_count": 14,
   "metadata": {
    "scrolled": false
   },
   "outputs": [
    {
     "data": {
      "image/png": "[encoded data removed]",
      "text/plain": [
       "<Figure size 864x288 with 2 Axes>"
      ]
     },
     "metadata": {},
     "output_type": "display_data"
    }
   ],
   "source": [
    "# grafico\n",
    "plt.figure(figsize=(12, 4))\n",
    "plt.subplot(1, 2, 1)\n",
    "ax = sns.countplot(churn_aberta.HasCrCard, order=churn_aberta.HasCrCard.value_counts().index)\n",
    "\n",
    "ax.set_title('Clientes com Cartão do Banco (Aberta)', fontsize=18, loc='left');\n",
    "ax.set_xlabel('', fontsize=14)\n",
    "ax.set_ylabel('', fontsize=14)\n",
    "ax.set_xticklabels(['Tem cartão', 'Não tem cartão'], fontsize=12);\n",
    "ax.set_yticklabels(ax.get_yticks(), fontsize=12);\n",
    "\n",
    "labels = (churn_aberta.HasCrCard.value_counts())\n",
    "for i, v in enumerate(labels):\n",
    "    ax.text(i, v-800, str(v), horizontalalignment = 'center', size = 14, color = 'w', fontweight = 'bold')\n",
    "\n",
    "plt.subplot(1, 2, 2)\n",
    "ax = sns.countplot(churn_fechada.HasCrCard, order=churn_fechada.HasCrCard.value_counts().index)\n",
    "\n",
    "ax.set_title('Clientes com Cartão do Banco (Fechada)', fontsize=18, loc='left');\n",
    "ax.set_xlabel('', fontsize=14)\n",
    "ax.set_ylabel('', fontsize=14)\n",
    "ax.set_xticklabels(['Tem cartão', 'Não tem cartão'], fontsize=12);\n",
    "ax.set_yticklabels(ax.get_yticks(), fontsize=12);\n",
    "\n",
    "labels = (churn_fechada.HasCrCard.value_counts())\n",
    "for i, v in enumerate(labels):\n",
    "    ax.text(i, v-200, str(v), horizontalalignment = 'center', size = 14, color = 'w', fontweight = 'bold')"
   ]
  },
  {
   "cell_type": "markdown",
   "metadata": {},
   "source": [
    "Mas vendo o próximo gráfico, fica claro que a maioria dos clientes que fecharam suas contas não eram membros ativos do banco. "
   ]
  },
  {
   "cell_type": "code",
   "execution_count": 15,
   "metadata": {},
   "outputs": [
    {
     "data": {
      "image/png": "[encoded data removed]",
      "text/plain": [
       "<Figure size 864x288 with 2 Axes>"
      ]
     },
     "metadata": {},
     "output_type": "display_data"
    }
   ],
   "source": [
    "# grafico\n",
    "plt.figure(figsize=(12, 4))\n",
    "plt.subplot(1, 2, 1)\n",
    "ax = sns.countplot(churn_aberta.IsActiveMember, order=churn_aberta.IsActiveMember.value_counts().index)\n",
    "\n",
    "ax.set_title('Membro Ativo ou Não do Banco (Aberta)', fontsize=18, loc='left');\n",
    "ax.set_xlabel('', fontsize=14)\n",
    "ax.set_ylabel('', fontsize=14)\n",
    "ax.set_xticklabels(['Membro Ativo', 'Membro Não Ativo'], fontsize=12);\n",
    "ax.set_yticklabels(ax.get_yticks(), fontsize=12);\n",
    "\n",
    "labels = (churn_aberta.IsActiveMember.value_counts())\n",
    "for i, v in enumerate(labels):\n",
    "    ax.text(i, v-500, str(v), horizontalalignment = 'center', size = 14, color = 'w', fontweight = 'bold')\n",
    "\n",
    "plt.subplot(1, 2, 2)\n",
    "ax = sns.countplot(churn_fechada.IsActiveMember, order=churn_fechada.IsActiveMember.value_counts().index)\n",
    "\n",
    "ax.set_title('Membro Ativo ou Não do Banco (Fechada)', fontsize=18, loc='left');\n",
    "ax.set_xlabel('', fontsize=14)\n",
    "ax.set_ylabel('', fontsize=14)\n",
    "ax.set_xticklabels(['Membro Não Ativo', 'Membro Ativo'], fontsize=12);\n",
    "ax.set_yticklabels(ax.get_yticks(), fontsize=12);\n",
    "\n",
    "labels = (churn_fechada.IsActiveMember.value_counts())\n",
    "for i, v in enumerate(labels):\n",
    "    ax.text(i, v-200, str(v), horizontalalignment = 'center', size = 14, color = 'w', fontweight = 'bold')"
   ]
  },
  {
   "cell_type": "markdown",
   "metadata": {},
   "source": [
    "## Preparando Dados e validação do Modelo\n",
    "\n",
    "As primeiras colunas do dataset não devem ir para o modelo, elas são os números das linhas, os IDs e os sobrenomes.\n",
    "\n",
    "Logo depois irei transformar os dados categóricos em numéricos."
   ]
  },
  {
   "cell_type": "code",
   "execution_count": 16,
   "metadata": {},
   "outputs": [],
   "source": [
    "# preparando dados para o modelo\n",
    "X = churn.iloc[:, 3:-1]\n",
    "y = churn.Exited"
   ]
  },
  {
   "cell_type": "code",
   "execution_count": 17,
   "metadata": {
    "scrolled": true
   },
   "outputs": [
    {
     "data": {
      "text/html": [
       "<div>\n",
       "<style scoped>\n",
       "    .dataframe tbody tr th:only-of-type {\n",
       "        vertical-align: middle;\n",
       "    }\n",
       "\n",
       "    .dataframe tbody tr th {\n",
       "        vertical-align: top;\n",
       "    }\n",
       "\n",
       "    .dataframe thead th {\n",
       "        text-align: right;\n",
       "    }\n",
       "</style>\n",
       "<table border=\"1\" class=\"dataframe\">\n",
       "  <thead>\n",
       "    <tr style=\"text-align: right;\">\n",
       "      <th></th>\n",
       "      <th>CreditScore</th>\n",
       "      <th>Gender</th>\n",
       "      <th>Age</th>\n",
       "      <th>Tenure</th>\n",
       "      <th>Balance</th>\n",
       "      <th>NumOfProducts</th>\n",
       "      <th>HasCrCard</th>\n",
       "      <th>IsActiveMember</th>\n",
       "      <th>EstimatedSalary</th>\n",
       "      <th>Geography_France</th>\n",
       "      <th>Geography_Germany</th>\n",
       "      <th>Geography_Spain</th>\n",
       "    </tr>\n",
       "  </thead>\n",
       "  <tbody>\n",
       "    <tr>\n",
       "      <th>0</th>\n",
       "      <td>619</td>\n",
       "      <td>0</td>\n",
       "      <td>42</td>\n",
       "      <td>2</td>\n",
       "      <td>0.00</td>\n",
       "      <td>1</td>\n",
       "      <td>1</td>\n",
       "      <td>1</td>\n",
       "      <td>101348.88</td>\n",
       "      <td>1</td>\n",
       "      <td>0</td>\n",
       "      <td>0</td>\n",
       "    </tr>\n",
       "    <tr>\n",
       "      <th>1</th>\n",
       "      <td>608</td>\n",
       "      <td>0</td>\n",
       "      <td>41</td>\n",
       "      <td>1</td>\n",
       "      <td>83807.86</td>\n",
       "      <td>1</td>\n",
       "      <td>0</td>\n",
       "      <td>1</td>\n",
       "      <td>112542.58</td>\n",
       "      <td>0</td>\n",
       "      <td>0</td>\n",
       "      <td>1</td>\n",
       "    </tr>\n",
       "    <tr>\n",
       "      <th>2</th>\n",
       "      <td>502</td>\n",
       "      <td>0</td>\n",
       "      <td>42</td>\n",
       "      <td>8</td>\n",
       "      <td>159660.80</td>\n",
       "      <td>3</td>\n",
       "      <td>1</td>\n",
       "      <td>0</td>\n",
       "      <td>113931.57</td>\n",
       "      <td>1</td>\n",
       "      <td>0</td>\n",
       "      <td>0</td>\n",
       "    </tr>\n",
       "    <tr>\n",
       "      <th>3</th>\n",
       "      <td>699</td>\n",
       "      <td>0</td>\n",
       "      <td>39</td>\n",
       "      <td>1</td>\n",
       "      <td>0.00</td>\n",
       "      <td>2</td>\n",
       "      <td>0</td>\n",
       "      <td>0</td>\n",
       "      <td>93826.63</td>\n",
       "      <td>1</td>\n",
       "      <td>0</td>\n",
       "      <td>0</td>\n",
       "    </tr>\n",
       "    <tr>\n",
       "      <th>4</th>\n",
       "      <td>850</td>\n",
       "      <td>0</td>\n",
       "      <td>43</td>\n",
       "      <td>2</td>\n",
       "      <td>125510.82</td>\n",
       "      <td>1</td>\n",
       "      <td>1</td>\n",
       "      <td>1</td>\n",
       "      <td>79084.10</td>\n",
       "      <td>0</td>\n",
       "      <td>0</td>\n",
       "      <td>1</td>\n",
       "    </tr>\n",
       "  </tbody>\n",
       "</table>\n",
       "</div>"
      ],
      "text/plain": [
       "   CreditScore  Gender  Age  Tenure    Balance  NumOfProducts  HasCrCard  \\\n",
       "0          619       0   42       2       0.00              1          1   \n",
       "1          608       0   41       1   83807.86              1          0   \n",
       "2          502       0   42       8  159660.80              3          1   \n",
       "3          699       0   39       1       0.00              2          0   \n",
       "4          850       0   43       2  125510.82              1          1   \n",
       "\n",
       "   IsActiveMember  EstimatedSalary  Geography_France  Geography_Germany  \\\n",
       "0               1        101348.88                 1                  0   \n",
       "1               1        112542.58                 0                  0   \n",
       "2               0        113931.57                 1                  0   \n",
       "3               0         93826.63                 1                  0   \n",
       "4               1         79084.10                 0                  0   \n",
       "\n",
       "   Geography_Spain  \n",
       "0                0  \n",
       "1                1  \n",
       "2                0  \n",
       "3                0  \n",
       "4                1  "
      ]
     },
     "execution_count": 17,
     "metadata": {},
     "output_type": "execute_result"
    }
   ],
   "source": [
    "# tranforma variaveis categóricas em númericas\n",
    "le = LabelEncoder()\n",
    "\n",
    "X['Gender'] = le.fit_transform(X['Gender'])\n",
    "X = pd.get_dummies(X)\n",
    "\n",
    "X.head()"
   ]
  },
  {
   "cell_type": "markdown",
   "metadata": {},
   "source": [
    "Aqui criei um dicionário para os modelos que irei utilizar."
   ]
  },
  {
   "cell_type": "code",
   "execution_count": 18,
   "metadata": {},
   "outputs": [],
   "source": [
    "models = dict()\n",
    "models['gbc'] = GradientBoostingClassifier()\n",
    "models['xgboost'] = XGBClassifier()\n",
    "models['svm'] = SVC()\n",
    "models['bayes'] = GaussianNB()"
   ]
  },
  {
   "cell_type": "markdown",
   "metadata": {},
   "source": [
    "Aqui criei uma função para fazer a validação do modelo, utilizando validação cruzada."
   ]
  },
  {
   "cell_type": "code",
   "execution_count": 19,
   "metadata": {},
   "outputs": [],
   "source": [
    "def val_modelo(modelo, X, y):\n",
    "    \"\"\"\n",
    "    Realiza cross-validation com os dados e os modelos.\n",
    "\n",
    "    # Arguments\n",
    "        modelo: Modelos para classificação.\n",
    "        X: Dataframe com as váriaveis para classificação.\n",
    "        y: Serie com a variavel alvo.\n",
    "\n",
    "    # Returns\n",
    "        float, média dos scores da cross-validation.\n",
    "    \"\"\"\n",
    "    cvs = cross_val_score(modelo, X, y, cv=5)\n",
    "    return cvs.mean()"
   ]
  },
  {
   "cell_type": "markdown",
   "metadata": {},
   "source": [
    "Validação dos modelos separados"
   ]
  },
  {
   "cell_type": "code",
   "execution_count": 20,
   "metadata": {
    "scrolled": true
   },
   "outputs": [
    {
     "name": "stdout",
     "output_type": "stream",
     "text": [
      ">gbc, 0.864\n",
      ">xgboost, 0.858\n",
      ">svm, 0.796\n",
      ">bayes, 0.785\n"
     ]
    }
   ],
   "source": [
    "# teste dos modelos\n",
    "resultados, nomes = list(), list()\n",
    "for nome, modelo in models.items():\n",
    "    scores = val_modelo(modelo, X, y)\n",
    "    resultados.append(scores)\n",
    "    nomes.append(nome)\n",
    "    print(f'>{nome}, {scores:.3f}')"
   ]
  },
  {
   "cell_type": "markdown",
   "metadata": {},
   "source": [
    "Stacking dos modelos utilizando como estimador final o XGBClassifier.\n",
    "\n",
    "Fiz teste com o Gradient Boosting mas o XGBoost pareceu melhor."
   ]
  },
  {
   "cell_type": "code",
   "execution_count": 21,
   "metadata": {
    "scrolled": false
   },
   "outputs": [
    {
     "data": {
      "text/plain": [
       "StackingClassifier(cv=5,\n",
       "                   estimators=[('gbc', GradientBoostingClassifier()),\n",
       "                               ('xgboost',\n",
       "                                XGBClassifier(base_score=None, booster=None,\n",
       "                                              colsample_bylevel=None,\n",
       "                                              colsample_bynode=None,\n",
       "                                              colsample_bytree=None, gamma=None,\n",
       "                                              gpu_id=None,\n",
       "                                              importance_type='gain',\n",
       "                                              interaction_constraints=None,\n",
       "                                              learning_rate=None,\n",
       "                                              max_delta_step=None,\n",
       "                                              max_depth=None,\n",
       "                                              min_child_weight=None,\n",
       "                                              missi...\n",
       "                                                 importance_type='gain',\n",
       "                                                 interaction_constraints=None,\n",
       "                                                 learning_rate=None,\n",
       "                                                 max_delta_step=None,\n",
       "                                                 max_depth=None,\n",
       "                                                 min_child_weight=None,\n",
       "                                                 missing=nan,\n",
       "                                                 monotone_constraints=None,\n",
       "                                                 n_estimators=100, n_jobs=None,\n",
       "                                                 num_parallel_tree=None,\n",
       "                                                 random_state=None,\n",
       "                                                 reg_alpha=None,\n",
       "                                                 reg_lambda=None,\n",
       "                                                 scale_pos_weight=None,\n",
       "                                                 subsample=None,\n",
       "                                                 tree_method=None,\n",
       "                                                 validate_parameters=None,\n",
       "                                                 verbosity=None))"
      ]
     },
     "execution_count": 21,
     "metadata": {},
     "output_type": "execute_result"
    }
   ],
   "source": [
    "estimators = [('gbc', GradientBoostingClassifier()),\n",
    "              ('xgboost', XGBClassifier()),\n",
    "              ('svm', SVC()),\n",
    "              ('bayes', GaussianNB())]\n",
    "\n",
    "# modelo de stacking\n",
    "stacking = StackingClassifier(estimators=estimators, final_estimator=XGBClassifier(), cv=5)\n",
    "stacking.fit(X, y)"
   ]
  },
  {
   "cell_type": "markdown",
   "metadata": {},
   "source": [
    "## Conclusão\n",
    "\n",
    "Prevendo os dados para todo o dataset e comparando com os valores reais usanso o classification report, chegamos em uma precisão de 89% para a previsão se vão manter os clientes e 80% para clientes que irão fechar sua conta.\n",
    "\n",
    "Utilizando o recall que seria, \"quando realmente é da classe X, o quão frequente você classifica como X?\". Nessa classificação ficamos com 97% para classificação de clientes que irão permanecer com suas contas, já os que fecharão a conta seria apenas 52%, não é tão ruim pois saber e poder recuperar metade dos clientes que sairão ajuda muito."
   ]
  },
  {
   "cell_type": "code",
   "execution_count": 23,
   "metadata": {},
   "outputs": [
    {
     "name": "stdout",
     "output_type": "stream",
     "text": [
      "              precision    recall  f1-score   support\n",
      "\n",
      "           0       0.89      0.97      0.93      7963\n",
      "           1       0.80      0.52      0.63      2037\n",
      "\n",
      "    accuracy                           0.88     10000\n",
      "   macro avg       0.84      0.74      0.78     10000\n",
      "weighted avg       0.87      0.88      0.87     10000\n",
      "\n"
     ]
    }
   ],
   "source": [
    "# previsão dos dados\n",
    "y_pred = stacking.predict(X)\n",
    "\n",
    "# classification report\n",
    "print(classification_report(y, y_pred))"
   ]
  },
  {
   "cell_type": "markdown",
   "metadata": {},
   "source": [
    "Com a matrix de confusão apenas confirmamos oque foi dito sobre o recall."
   ]
  },
  {
   "cell_type": "code",
   "execution_count": 24,
   "metadata": {},
   "outputs": [
    {
     "data": {
      "text/plain": [
       "<matplotlib.axes._subplots.AxesSubplot at 0x1f0394d1f60>"
      ]
     },
     "execution_count": 24,
     "metadata": {},
     "output_type": "execute_result"
    },
    {
     "data": {
      "image/png": "[encoded data removed]",
      "text/plain": [
       "<Figure size 432x288 with 2 Axes>"
      ]
     },
     "metadata": {},
     "output_type": "display_data"
    }
   ],
   "source": [
    "# matriz de confusão\n",
    "cm = confusion_matrix(y, y_pred, normalize='true')\n",
    "\n",
    "# mapa de calor com a matriz de confusão\n",
    "sns.heatmap(cm, annot=True)"
   ]
  }
 ],
 "metadata": {
  "kernelspec": {
   "display_name": "Python 3",
   "language": "python",
   "name": "python3"
  },
  "language_info": {
   "codemirror_mode": {
    "name": "ipython",
    "version": 3
   },
   "file_extension": ".py",
   "mimetype": "text/x-python",
   "name": "python",
   "nbconvert_exporter": "python",
   "pygments_lexer": "ipython3",
   "version": "3.7.3"
  }
 },
 "nbformat": 4,
 "nbformat_minor": 4
}
